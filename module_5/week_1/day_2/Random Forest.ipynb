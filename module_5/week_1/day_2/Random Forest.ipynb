{
 "cells": [
  {
   "cell_type": "markdown",
   "metadata": {},
   "source": [
    "# Random Forest\n",
    "\n",
    "Slides: [link](https://docs.google.com/presentation/d/18KIHEHceqyeOGEOSPFZY-GWKGejYfztpqVruwCuf-QU/edit?usp=sharing)"
   ]
  },
  {
   "cell_type": "code",
   "execution_count": 1,
   "metadata": {},
   "outputs": [],
   "source": [
    "%matplotlib inline\n",
    "import numpy as np\n",
    "import matplotlib.pyplot as plt\n",
    "import seaborn as sns; sns.set()\n",
    "import pandas as pd\n",
    "from sklearn.tree import DecisionTreeClassifier\n",
    "from sklearn.ensemble import RandomForestClassifier\n",
    "from IPython.display import Image  \n",
    "from sklearn import tree\n",
    "import pydotplus\n",
    "from sklearn.model_selection import cross_val_score"
   ]
  },
  {
   "cell_type": "markdown",
   "metadata": {},
   "source": [
    "### Breast Cancer Random Forest Classifier"
   ]
  },
  {
   "cell_type": "code",
   "execution_count": 4,
   "metadata": {},
   "outputs": [],
   "source": [
    "bc=pd.read_csv('breast_cancer_scikit_onehot_dataset.csv')"
   ]
  },
  {
   "cell_type": "code",
   "execution_count": 5,
   "metadata": {},
   "outputs": [],
   "source": [
    "target=bc['class']\n",
    "target = bc['class'].map(lambda x: 1 if x == 4 else 0).values \n",
    "target = pd.Series(target)"
   ]
  },
  {
   "cell_type": "code",
   "execution_count": 6,
   "metadata": {},
   "outputs": [
    {
     "data": {
      "text/html": [
       "<div>\n",
       "<style scoped>\n",
       "    .dataframe tbody tr th:only-of-type {\n",
       "        vertical-align: middle;\n",
       "    }\n",
       "\n",
       "    .dataframe tbody tr th {\n",
       "        vertical-align: top;\n",
       "    }\n",
       "\n",
       "    .dataframe thead th {\n",
       "        text-align: right;\n",
       "    }\n",
       "</style>\n",
       "<table border=\"1\" class=\"dataframe\">\n",
       "  <thead>\n",
       "    <tr style=\"text-align: right;\">\n",
       "      <th></th>\n",
       "      <th>clump_thickness</th>\n",
       "      <th>uniformity_of_cell_size</th>\n",
       "      <th>uniformity_of_cell_shape</th>\n",
       "      <th>marginal_adhesion</th>\n",
       "      <th>single_epithelial_cell_size</th>\n",
       "      <th>bare_nuclei</th>\n",
       "      <th>bland_chromatin</th>\n",
       "      <th>normal_nucleoli</th>\n",
       "      <th>mitosis</th>\n",
       "    </tr>\n",
       "  </thead>\n",
       "  <tbody>\n",
       "    <tr>\n",
       "      <th>0</th>\n",
       "      <td>5.0</td>\n",
       "      <td>1.0</td>\n",
       "      <td>1.0</td>\n",
       "      <td>1.0</td>\n",
       "      <td>2.0</td>\n",
       "      <td>1.0</td>\n",
       "      <td>3.0</td>\n",
       "      <td>1.0</td>\n",
       "      <td>1.0</td>\n",
       "    </tr>\n",
       "    <tr>\n",
       "      <th>1</th>\n",
       "      <td>5.0</td>\n",
       "      <td>4.0</td>\n",
       "      <td>4.0</td>\n",
       "      <td>5.0</td>\n",
       "      <td>7.0</td>\n",
       "      <td>10.0</td>\n",
       "      <td>3.0</td>\n",
       "      <td>2.0</td>\n",
       "      <td>1.0</td>\n",
       "    </tr>\n",
       "    <tr>\n",
       "      <th>2</th>\n",
       "      <td>3.0</td>\n",
       "      <td>1.0</td>\n",
       "      <td>1.0</td>\n",
       "      <td>1.0</td>\n",
       "      <td>2.0</td>\n",
       "      <td>2.0</td>\n",
       "      <td>3.0</td>\n",
       "      <td>1.0</td>\n",
       "      <td>1.0</td>\n",
       "    </tr>\n",
       "    <tr>\n",
       "      <th>3</th>\n",
       "      <td>6.0</td>\n",
       "      <td>8.0</td>\n",
       "      <td>8.0</td>\n",
       "      <td>1.0</td>\n",
       "      <td>3.0</td>\n",
       "      <td>4.0</td>\n",
       "      <td>3.0</td>\n",
       "      <td>7.0</td>\n",
       "      <td>1.0</td>\n",
       "    </tr>\n",
       "    <tr>\n",
       "      <th>4</th>\n",
       "      <td>4.0</td>\n",
       "      <td>1.0</td>\n",
       "      <td>1.0</td>\n",
       "      <td>3.0</td>\n",
       "      <td>2.0</td>\n",
       "      <td>1.0</td>\n",
       "      <td>3.0</td>\n",
       "      <td>1.0</td>\n",
       "      <td>1.0</td>\n",
       "    </tr>\n",
       "  </tbody>\n",
       "</table>\n",
       "</div>"
      ],
      "text/plain": [
       "   clump_thickness  uniformity_of_cell_size  uniformity_of_cell_shape  \\\n",
       "0              5.0                      1.0                       1.0   \n",
       "1              5.0                      4.0                       4.0   \n",
       "2              3.0                      1.0                       1.0   \n",
       "3              6.0                      8.0                       8.0   \n",
       "4              4.0                      1.0                       1.0   \n",
       "\n",
       "   marginal_adhesion  single_epithelial_cell_size  bare_nuclei  \\\n",
       "0                1.0                          2.0          1.0   \n",
       "1                5.0                          7.0         10.0   \n",
       "2                1.0                          2.0          2.0   \n",
       "3                1.0                          3.0          4.0   \n",
       "4                3.0                          2.0          1.0   \n",
       "\n",
       "   bland_chromatin  normal_nucleoli  mitosis  \n",
       "0              3.0              1.0      1.0  \n",
       "1              3.0              2.0      1.0  \n",
       "2              3.0              1.0      1.0  \n",
       "3              3.0              7.0      1.0  \n",
       "4              3.0              1.0      1.0  "
      ]
     },
     "execution_count": 6,
     "metadata": {},
     "output_type": "execute_result"
    }
   ],
   "source": [
    "predictor=bc.drop(columns=['class'])\n",
    "predictor.head()"
   ]
  },
  {
   "cell_type": "code",
   "execution_count": 7,
   "metadata": {},
   "outputs": [
    {
     "data": {
      "text/plain": [
       "0    0.634446\n",
       "1    0.365554\n",
       "dtype: float64"
      ]
     },
     "execution_count": 7,
     "metadata": {},
     "output_type": "execute_result"
    }
   ],
   "source": [
    "target.value_counts(normalize=True)"
   ]
  },
  {
   "cell_type": "code",
   "execution_count": 8,
   "metadata": {},
   "outputs": [],
   "source": [
    "# Import train_test_split function\n",
    "from sklearn import preprocessing\n",
    "from sklearn.model_selection import train_test_split# Split dataset into training set and test set\n",
    "X_train, X_test, y_train, y_test = train_test_split(predictor, target, test_size=0.3,random_state=9) "
   ]
  },
  {
   "cell_type": "code",
   "execution_count": 9,
   "metadata": {},
   "outputs": [
    {
     "data": {
      "text/plain": [
       "RandomForestClassifier(bootstrap=True, class_weight='balanced',\n",
       "            criterion='gini', max_depth=None, max_features='auto',\n",
       "            max_leaf_nodes=16, min_impurity_decrease=0.0,\n",
       "            min_impurity_split=None, min_samples_leaf=1,\n",
       "            min_samples_split=2, min_weight_fraction_leaf=0.0,\n",
       "            n_estimators=500, n_jobs=-1, oob_score=False,\n",
       "            random_state=None, verbose=0, warm_start=False)"
      ]
     },
     "execution_count": 9,
     "metadata": {},
     "output_type": "execute_result"
    }
   ],
   "source": [
    "# fit our model\n",
    "rnd_clf = RandomForestClassifier(n_estimators=500, max_leaf_nodes=16,class_weight='balanced', n_jobs=-1)\n",
    "rnd_clf.fit(X_train, y_train)"
   ]
  },
  {
   "cell_type": "code",
   "execution_count": 10,
   "metadata": {},
   "outputs": [],
   "source": [
    "importances = rnd_clf.feature_importances_"
   ]
  },
  {
   "cell_type": "code",
   "execution_count": 11,
   "metadata": {},
   "outputs": [
    {
     "data": {
      "image/png": "[encoded data removed]",
      "text/plain": [
       "<Figure size 432x288 with 1 Axes>"
      ]
     },
     "metadata": {
      "needs_background": "light"
     },
     "output_type": "display_data"
    }
   ],
   "source": [
    "# creating list of column names\n",
    "feat_names=list(X_train)\n",
    "\n",
    "# Sort feature importances in descending order\n",
    "indices = np.argsort(importances)[::-1]\n",
    "\n",
    "# Rearrange feature names so they match the sorted feature importances\n",
    "names = [feat_names[i] for i in indices]\n",
    "\n",
    "# Create plot\n",
    "plt.figure()\n",
    "\n",
    "# Create plot title\n",
    "plt.title(\"Feature Importance\")\n",
    "\n",
    "# Add bars\n",
    "plt.bar(range(X_train.shape[1]), importances[indices])\n",
    "\n",
    "# Add feature names as x-axis labels\n",
    "plt.xticks(range(X_train.shape[1]), names, rotation=90)\n",
    "\n",
    "# Show plot\n",
    "plt.show()"
   ]
  },
  {
   "cell_type": "code",
   "execution_count": 12,
   "metadata": {},
   "outputs": [],
   "source": [
    "# Predictions for the test data\n",
    "y_pred = rnd_clf.predict(X_test)"
   ]
  },
  {
   "cell_type": "code",
   "execution_count": 13,
   "metadata": {},
   "outputs": [
    {
     "data": {
      "text/plain": [
       "array([[0.99866811, 0.00133189],\n",
       "       [0.32245129, 0.67754871],\n",
       "       [0.99899719, 0.00100281],\n",
       "       [0.04962722, 0.95037278],\n",
       "       [0.9985335 , 0.0014665 ]])"
      ]
     },
     "execution_count": 13,
     "metadata": {},
     "output_type": "execute_result"
    }
   ],
   "source": [
    "yprob = rnd_clf.predict_proba(X_test)\n",
    "yprob\n",
    "yprob[:5]"
   ]
  },
  {
   "cell_type": "code",
   "execution_count": 14,
   "metadata": {},
   "outputs": [
    {
     "name": "stdout",
     "output_type": "stream",
     "text": [
      "Accuracy: 0.9649122807017544\n"
     ]
    }
   ],
   "source": [
    "#Import scikit-learn metrics module for accuracy calculation\n",
    "from sklearn import metrics\n",
    "\n",
    "# Model Accuracy, how often is the classifier correct?\n",
    "print(\"Accuracy:\",metrics.accuracy_score(y_test, y_pred))"
   ]
  },
  {
   "cell_type": "code",
   "execution_count": 15,
   "metadata": {},
   "outputs": [
    {
     "data": {
      "text/plain": [
       "array([[97,  4],\n",
       "       [ 2, 68]])"
      ]
     },
     "execution_count": 15,
     "metadata": {},
     "output_type": "execute_result"
    }
   ],
   "source": [
    "from sklearn.metrics import confusion_matrix\n",
    "cm=confusion_matrix(y_test, y_pred)\n",
    "cm"
   ]
  },
  {
   "cell_type": "code",
   "execution_count": 16,
   "metadata": {},
   "outputs": [
    {
     "data": {
      "image/png": "[encoded data removed]",
      "text/plain": [
       "<Figure size 396x288 with 2 Axes>"
      ]
     },
     "metadata": {
      "needs_background": "light"
     },
     "output_type": "display_data"
    }
   ],
   "source": [
    "# Transform to df for easier plotting\n",
    "cm_df = pd.DataFrame(cm)\n",
    "plt.figure(figsize=(5.5,4))\n",
    "sns.heatmap(cm_df, annot=True)\n",
    "plt.title('Decision Tree Classifier')\n",
    "plt.ylabel('True label')\n",
    "plt.xlabel('Predicted label')\n",
    "plt.show()"
   ]
  },
  {
   "cell_type": "code",
   "execution_count": 17,
   "metadata": {},
   "outputs": [
    {
     "data": {
      "text/plain": [
       "0.9577464788732395"
      ]
     },
     "execution_count": 17,
     "metadata": {},
     "output_type": "execute_result"
    }
   ],
   "source": [
    "from sklearn.metrics import f1_score\n",
    "f1_score(y_test, y_pred)"
   ]
  },
  {
   "cell_type": "markdown",
   "metadata": {},
   "source": [
    "# Grid Search"
   ]
  },
  {
   "cell_type": "markdown",
   "metadata": {},
   "source": [
    "RandomForestClassifier(bootstrap=True, class_weight='balanced',\n",
    "            criterion='gini', max_depth=None, max_features='auto',\n",
    "            max_leaf_nodes=16, min_impurity_decrease=0.0,\n",
    "            min_impurity_split=None, min_samples_leaf=1,\n",
    "            min_samples_split=2, min_weight_fraction_leaf=0.0,\n",
    "            n_estimators=500, n_jobs=-1, oob_score=False,\n",
    "            random_state=None, verbose=0, warm_start=False)"
   ]
  },
  {
   "cell_type": "code",
   "execution_count": 18,
   "metadata": {},
   "outputs": [
    {
     "data": {
      "text/plain": [
       "GridSearchCV(cv=5, error_score='raise-deprecating',\n",
       "       estimator=RandomForestClassifier(bootstrap=True, class_weight=None, criterion='gini',\n",
       "            max_depth=None, max_features='auto', max_leaf_nodes=None,\n",
       "            min_impurity_decrease=0.0, min_impurity_split=None,\n",
       "            min_samples_leaf=1, min_samples_split=2,\n",
       "            min_weight_fraction_leaf=0.0, n_estimators='warn', n_jobs=None,\n",
       "            oob_score=False, random_state=None, verbose=0,\n",
       "            warm_start=False),\n",
       "       fit_params=None, iid='warn', n_jobs=None,\n",
       "       param_grid=[{'n_estimators': [3, 10, 1000], 'max_features': [2, 4, 6, 8], 'max_leaf_nodes': [5, 10, 15, 20], 'class_weight': ['balanced']}],\n",
       "       pre_dispatch='2*n_jobs', refit=True, return_train_score=True,\n",
       "       scoring='f1', verbose=0)"
      ]
     },
     "execution_count": 18,
     "metadata": {},
     "output_type": "execute_result"
    }
   ],
   "source": [
    "from sklearn.model_selection import GridSearchCV\n",
    "# parameters we are interested in exploring\n",
    "param_grid = [{'n_estimators': [3, 10, 1000], 'max_features': [2, 4, 6, 8],  'max_leaf_nodes':[5,10,15,20],'class_weight':['balanced']},]\n",
    "forest_clf = RandomForestClassifier()\n",
    "grid_search = GridSearchCV(forest_clf, param_grid, cv=5,scoring='f1',return_train_score=True)\n",
    "\n",
    "#fit model with parameters from grid search\n",
    "grid_search.fit(X_train, y_train)"
   ]
  },
  {
   "cell_type": "code",
   "execution_count": 19,
   "metadata": {},
   "outputs": [
    {
     "data": {
      "text/plain": [
       "{'class_weight': 'balanced',\n",
       " 'max_features': 2,\n",
       " 'max_leaf_nodes': 10,\n",
       " 'n_estimators': 1000}"
      ]
     },
     "execution_count": 19,
     "metadata": {},
     "output_type": "execute_result"
    }
   ],
   "source": [
    "grid_search.best_params_"
   ]
  },
  {
   "cell_type": "code",
   "execution_count": 20,
   "metadata": {},
   "outputs": [],
   "source": [
    "y_pred = grid_search.predict(X_test)"
   ]
  },
  {
   "cell_type": "code",
   "execution_count": 21,
   "metadata": {},
   "outputs": [
    {
     "name": "stdout",
     "output_type": "stream",
     "text": [
      "Accuracy: 0.9707602339181286\n"
     ]
    }
   ],
   "source": [
    "print(\"Accuracy:\",metrics.accuracy_score(y_test, y_pred))"
   ]
  },
  {
   "cell_type": "code",
   "execution_count": 22,
   "metadata": {},
   "outputs": [
    {
     "data": {
      "text/plain": [
       "0.9650349650349651"
      ]
     },
     "execution_count": 22,
     "metadata": {},
     "output_type": "execute_result"
    }
   ],
   "source": [
    "from sklearn.metrics import f1_score\n",
    "f1_score(y_test, y_pred)"
   ]
  },
  {
   "cell_type": "code",
   "execution_count": null,
   "metadata": {},
   "outputs": [],
   "source": []
  },
  {
   "cell_type": "markdown",
   "metadata": {},
   "source": [
    "## Class Work \n",
    "### Implement Gradient Boosting Classifier and Grid Seach\n",
    "- Use sklearn implementation"
   ]
  },
  {
   "cell_type": "code",
   "execution_count": null,
   "metadata": {},
   "outputs": [],
   "source": []
  },
  {
   "cell_type": "code",
   "execution_count": 23,
   "metadata": {},
   "outputs": [
    {
     "name": "stdout",
     "output_type": "stream",
     "text": [
      "\u001b[33mDEPRECATION: Python 2.7 will reach the end of its life on January 1st, 2020. Please upgrade your Python as Python 2.7 won't be maintained after that date. A future version of pip will drop support for Python 2.7.\u001b[0m\n",
      "Collecting xgboost\n",
      "\u001b[?25l  Downloading https://files.pythonhosted.org/packages/2e/bd/ad3a963b630fa3ee72d1a672fd207263fa0a18113688273afe8298293535/xgboost-0.82.tar.gz (665kB)\n",
      "\u001b[K     |████████████████████████████████| 675kB 3.4MB/s eta 0:00:01\n",
      "\u001b[?25h\u001b[31m    ERROR: Complete output from command python setup.py egg_info:\u001b[0m\n",
      "\u001b[31m    ERROR: ++ pwd\n",
      "    + oldpath=/private/var/folders/jl/8fzlq6gd5hg7j9rl05wsmjn40000gp/T/pip-install-dtyMS_/xgboost\n",
      "    + cd ./xgboost/\n",
      "    + echo darwin18\n",
      "    + grep -q darwin\n",
      "    + LIB_XGBOOST=libxgboost.dylib\n",
      "    + which g++-5\n",
      "    + which g++-7\n",
      "    + which g++-8\n",
      "    + which clang++\n",
      "    /usr/bin/clang++\n",
      "    + export CC=clang\n",
      "    + CC=clang\n",
      "    + export CXX=clang++\n",
      "    + CXX=clang++\n",
      "    + make clean\n",
      "    Makefile:31: MAKE [/Library/Developer/CommandLineTools/usr/bin/make] - checked OK\n",
      "    rm -f -rf build build_plugin lib bin *~ */*~ */*/*~ */*/*/*~ */*.o */*/*.o */*/*/*.o #xgboost\n",
      "    rm -f -rf build_tests *.gcov tests/cpp/xgboost_test\n",
      "    if [ -d \"R-package/src\" ]; then \\\n",
      "    \t\tcd R-package/src; \\\n",
      "    \t\trm -f -rf rabit src include dmlc-core amalgamation *.so *.dll; \\\n",
      "    \t\tcd /private/var/folders/jl/8fzlq6gd5hg7j9rl05wsmjn40000gp/T/pip-install-dtyMS_/xgboost/xgboost; \\\n",
      "    \tfi\n",
      "    + make lib/libxgboost.dylib -j4\n",
      "    Makefile:31: MAKE [/Library/Developer/CommandLineTools/usr/bin/make] - checked OK\n",
      "    clang++ -DDMLC_LOG_CUSTOMIZE=1 -std=c++11 -Wall -Wno-unknown-pragmas -Iinclude   -Idmlc-core/include -Irabit/include -I/include -O3 -funroll-loops -msse2 -fPIC -fopenmp -MM -MT build/logging.o src/logging.cc >build/logging.d\n",
      "    clang++ -DDMLC_LOG_CUSTOMIZE=1 -std=c++11 -Wall -Wno-unknown-pragmas -Iinclude   -Idmlc-core/include -Irabit/include -I/include -O3 -funroll-loops -msse2 -fPIC -fopenmp -MM -MT build/learner.o src/learner.cc >build/learner.d\n",
      "    clang++ -DDMLC_LOG_CUSTOMIZE=1 -std=c++11 -Wall -Wno-unknown-pragmas -Iinclude   -Idmlc-core/include -Irabit/include -I/include -O3 -funroll-loops -msse2 -fPIC -fopenmp -MM -MT build/c_api/c_api.o src/c_api/c_api.cc >build/c_api/c_api.d\n",
      "    clang++ -DDMLC_LOG_CUSTOMIZE=1 -std=c++11 -Wall -Wno-unknown-pragmas -Iinclude   -Idmlc-core/include -Irabit/include -I/include -O3 -funroll-loops -msse2 -fPIC -fopenmp -MM -MT build/c_api/c_api_error.o src/c_api/c_api_error.cc >build/c_api/c_api_error.d\n",
      "    clang: error: clangunsupported option '-fopenmp':\n",
      "    error: unsupported option '-fopenmp'\n",
      "    clang: error: unsupported option '-fopenmp'\n",
      "    clang: error: unsupported option '-fopenmp'\n",
      "    make: *** [build/learner.o] Error 1\n",
      "    make: *** Waiting for unfinished jobs....\n",
      "    make: *** [build/logging.o] Error 1\n",
      "    make: *** [build/c_api/c_api_error.o] Error 1\n",
      "    make: *** [build/c_api/c_api.o] Error 1\n",
      "    + echo -----------------------------\n",
      "    -----------------------------\n",
      "    + echo 'Building multi-thread xgboost failed'\n",
      "    Building multi-thread xgboost failed\n",
      "    + echo 'Start to build single-thread xgboost'\n",
      "    Start to build single-thread xgboost\n",
      "    + make clean\n",
      "    Makefile:31: MAKE [/Library/Developer/CommandLineTools/usr/bin/make] - checked OK\n",
      "    rm -f -rf build build_plugin lib bin *~ */*~ */*/*~ */*/*/*~ */*.o */*/*.o */*/*/*.o #xgboost\n",
      "    rm -f -rf build_tests *.gcov tests/cpp/xgboost_test\n",
      "    if [ -d \"R-package/src\" ]; then \\\n",
      "    \t\tcd R-package/src; \\\n",
      "    \t\trm -f -rf rabit src include dmlc-core amalgamation *.so *.dll; \\\n",
      "    \t\tcd /private/var/folders/jl/8fzlq6gd5hg7j9rl05wsmjn40000gp/T/pip-install-dtyMS_/xgboost/xgboost; \\\n",
      "    \tfi\n",
      "    + make lib/libxgboost.dylib -j4 USE_OPENMP=0\n",
      "    Makefile:31: MAKE [/Library/Developer/CommandLineTools/usr/bin/make] - checked OK\n",
      "    clang++ -DDMLC_LOG_CUSTOMIZE=1 -std=c++11 -Wall -Wno-unknown-pragmas -Iinclude   -Idmlc-core/include -Irabit/include -I/include -O3 -funroll-loops -msse2 -fPIC -DDISABLE_OPENMP -MM -MT build/learner.o src/learner.cc >build/learner.d\n",
      "    clang++ -DDMLC_LOG_CUSTOMIZE=1 -std=c++11 -Wall -Wno-unknown-pragmas -Iinclude   -Idmlc-core/include -Irabit/include -I/include -O3 -funroll-loops -msse2 -fPIC -DDISABLE_OPENMP -MM -MT build/logging.o src/logging.cc >build/logging.d\n",
      "    clang++ -DDMLC_LOG_CUSTOMIZE=1 -std=c++11 -Wall -Wno-unknown-pragmas -Iinclude   -Idmlc-core/include -Irabit/include -I/include -O3 -funroll-loops -msse2 -fPIC -DDISABLE_OPENMP -MM -MT build/c_api/c_api.o src/c_api/c_api.cc >build/c_api/c_api.d\n",
      "    clang++ -DDMLC_LOG_CUSTOMIZE=1 -std=c++11 -Wall -Wno-unknown-pragmas -Iinclude   -Idmlc-core/include -Irabit/include -I/include -O3 -funroll-loops -msse2 -fPIC -DDISABLE_OPENMP -MM -MT build/c_api/c_api_error.o src/c_api/c_api_error.cc >build/c_api/c_api_error.d\n",
      "    clang++ -c -DDMLC_LOG_CUSTOMIZE=1 -std=c++11 -Wall -Wno-unknown-pragmas -Iinclude   -Idmlc-core/include -Irabit/include -I/include -O3 -funroll-loops -msse2 -fPIC -DDISABLE_OPENMP src/c_api/c_api_error.cc -o build/c_api/c_api_error.o\n",
      "    clang++ -c -DDMLC_LOG_CUSTOMIZE=1 -std=c++11 -Wall -Wno-unknown-pragmas -Iinclude   -Idmlc-core/include -Irabit/include -I/include -O3 -funroll-loops -msse2 -fPIC -DDISABLE_OPENMP src/logging.cc -o build/logging.o\n",
      "    clang++ -c -DDMLC_LOG_CUSTOMIZE=1 -std=c++11 -Wall -Wno-unknown-pragmas -Iinclude   -Idmlc-core/include -Irabit/include -I/include -O3 -funroll-loops -msse2 -fPIC -DDISABLE_OPENMP src/c_api/c_api.cc -o build/c_api/c_api.o\n",
      "    clang++ -c -DDMLC_LOG_CUSTOMIZE=1 -std=c++11 -Wall -Wno-unknown-pragmas -Iinclude   -Idmlc-core/include -Irabit/include -I/include -O3 -funroll-loops -msse2 -fPIC -DDISABLE_OPENMP src/learner.cc -o build/learner.o\n",
      "    clang++ -DDMLC_LOG_CUSTOMIZE=1 -std=c++11 -Wall -Wno-unknown-pragmas -Iinclude   -Idmlc-core/include -Irabit/include -I/include -O3 -funroll-loops -msse2 -fPIC -DDISABLE_OPENMP -MM -MT build/common/common.o src/common/common.cc >build/common/common.d\n",
      "    clang++ -c -DDMLC_LOG_CUSTOMIZE=1 -std=c++11 -Wall -Wno-unknown-pragmas -Iinclude   -Idmlc-core/include -Irabit/include -I/include -O3 -funroll-loops -msse2 -fPIC -DDISABLE_OPENMP src/common/common.cc -o build/common/common.o\n",
      "    src/learner.cc:51:20: warning: unused function 'RenderParamVal' [-Wunused-function]\n",
      "    inline std::string RenderParamVal(const std::string& str) {\n",
      "                       ^\n",
      "    clang++ -DDMLC_LOG_CUSTOMIZE=1 -std=c++11 -Wall -Wno-unknown-pragmas -Iinclude   -Idmlc-core/include -Irabit/include -I/include -O3 -funroll-loops -msse2 -fPIC -DDISABLE_OPENMP -MM -MT build/common/hist_util.o src/common/hist_util.cc >build/common/hist_util.d\n",
      "    clang++ -c -DDMLC_LOG_CUSTOMIZE=1 -std=c++11 -Wall -Wno-unknown-pragmas -Iinclude   -Idmlc-core/include -Irabit/include -I/include -O3 -funroll-loops -msse2 -fPIC -DDISABLE_OPENMP src/common/hist_util.cc -o build/common/hist_util.o\n",
      "    clang++ -DDMLC_LOG_CUSTOMIZE=1 -std=c++11 -Wall -Wno-unknown-pragmas -Iinclude   -Idmlc-core/include -Irabit/include -I/include -O3 -funroll-loops -msse2 -fPIC -DDISABLE_OPENMP -MM -MT build/common/host_device_vector.o src/common/host_device_vector.cc >build/common/host_device_vector.d\n",
      "    clang++ -c -DDMLC_LOG_CUSTOMIZE=1 -std=c++11 -Wall -Wno-unknown-pragmas -Iinclude   -Idmlc-core/include -Irabit/include -I/include -O3 -funroll-loops -msse2 -fPIC -DDISABLE_OPENMP src/common/host_device_vector.cc -o build/common/host_device_vector.o\n",
      "    clang++ -DDMLC_LOG_CUSTOMIZE=1 -std=c++11 -Wall -Wno-unknown-pragmas -Iinclude   -Idmlc-core/include -Irabit/include -I/include -O3 -funroll-loops -msse2 -fPIC -DDISABLE_OPENMP -MM -MT build/data/data.o src/data/data.cc >build/data/data.d\n",
      "    clang++ -c -DDMLC_LOG_CUSTOMIZE=1 -std=c++11 -Wall -Wno-unknown-pragmas -Iinclude   -Idmlc-core/include -Irabit/include -I/include -O3 -funroll-loops -msse2 -fPIC -DDISABLE_OPENMP src/data/data.cc -o build/data/data.o\n",
      "    clang++ -DDMLC_LOG_CUSTOMIZE=1 -std=c++11 -Wall -Wno-unknown-pragmas -Iinclude   -Idmlc-core/include -Irabit/include -I/include -O3 -funroll-loops -msse2 -fPIC -DDISABLE_OPENMP -MM -MT build/data/simple_csr_source.o src/data/simple_csr_source.cc >build/data/simple_csr_source.d\n",
      "    1 warning generated.\n",
      "    clang++ -DDMLC_LOG_CUSTOMIZE=1 -std=c++11 -Wall -Wno-unknown-pragmas -Iinclude   -Idmlc-core/include -Irabit/include -I/include -O3 -funroll-loops -msse2 -fPIC -DDISABLE_OPENMP -MM -MT build/data/simple_dmatrix.o src/data/simple_dmatrix.cc >build/data/simple_dmatrix.d\n",
      "    clang++ -c -DDMLC_LOG_CUSTOMIZE=1 -std=c++11 -Wall -Wno-unknown-pragmas -Iinclude   -Idmlc-core/include -Irabit/include -I/include -O3 -funroll-loops -msse2 -fPIC -DDISABLE_OPENMP src/data/simple_csr_source.cc -o build/data/simple_csr_source.o\n",
      "    clang++ -c -DDMLC_LOG_CUSTOMIZE=1 -std=c++11 -Wall -Wno-unknown-pragmas -Iinclude   -Idmlc-core/include -Irabit/include -I/include -O3 -funroll-loops -msse2 -fPIC -DDISABLE_OPENMP src/data/simple_dmatrix.cc -o build/data/simple_dmatrix.o\n",
      "    clang++ -DDMLC_LOG_CUSTOMIZE=1 -std=c++11 -Wall -Wno-unknown-pragmas -Iinclude   -Idmlc-core/include -Irabit/include -I/include -O3 -funroll-loops -msse2 -fPIC -DDISABLE_OPENMP -MM -MT build/data/sparse_page_dmatrix.o src/data/sparse_page_dmatrix.cc >build/data/sparse_page_dmatrix.d\n",
      "    clang++ -c -DDMLC_LOG_CUSTOMIZE=1 -std=c++11 -Wall -Wno-unknown-pragmas -Iinclude   -Idmlc-core/include -Irabit/include -I/include -O3 -funroll-loops -msse2 -fPIC -DDISABLE_OPENMP src/data/sparse_page_dmatrix.cc -o build/data/sparse_page_dmatrix.o\n",
      "    clang++ -DDMLC_LOG_CUSTOMIZE=1 -std=c++11 -Wall -Wno-unknown-pragmas -Iinclude   -Idmlc-core/include -Irabit/include -I/include -O3 -funroll-loops -msse2 -fPIC -DDISABLE_OPENMP -MM -MT build/data/sparse_page_raw_format.o src/data/sparse_page_raw_format.cc >build/data/sparse_page_raw_format.d\n",
      "    clang++ -DDMLC_LOG_CUSTOMIZE=1 -std=c++11 -Wall -Wno-unknown-pragmas -Iinclude   -Idmlc-core/include -Irabit/include -I/include -O3 -funroll-loops -msse2 -fPIC -DDISABLE_OPENMP -MM -MT build/data/sparse_page_source.o src/data/sparse_page_source.cc >build/data/sparse_page_source.d\n",
      "    clang++ -c -DDMLC_LOG_CUSTOMIZE=1 -std=c++11 -Wall -Wno-unknown-pragmas -Iinclude   -Idmlc-core/include -Irabit/include -I/include -O3 -funroll-loops -msse2 -fPIC -DDISABLE_OPENMP src/data/sparse_page_raw_format.cc -o build/data/sparse_page_raw_format.o\n",
      "    clang++ -DDMLC_LOG_CUSTOMIZE=1 -std=c++11 -Wall -Wno-unknown-pragmas -Iinclude   -Idmlc-core/include -Irabit/include -I/include -O3 -funroll-loops -msse2 -fPIC -DDISABLE_OPENMP -MM -MT build/data/sparse_page_writer.o src/data/sparse_page_writer.cc >build/data/sparse_page_writer.d\n",
      "    clang++ -c -DDMLC_LOG_CUSTOMIZE=1 -std=c++11 -Wall -Wno-unknown-pragmas -Iinclude   -Idmlc-core/include -Irabit/include -I/include -O3 -funroll-loops -msse2 -fPIC -DDISABLE_OPENMP src/data/sparse_page_source.cc -o build/data/sparse_page_source.o\n",
      "    clang++ -c -DDMLC_LOG_CUSTOMIZE=1 -std=c++11 -Wall -Wno-unknown-pragmas -Iinclude   -Idmlc-core/include -Irabit/include -I/include -O3 -funroll-loops -msse2 -fPIC -DDISABLE_OPENMP src/data/sparse_page_writer.cc -o build/data/sparse_page_writer.o\n",
      "    clang++ -DDMLC_LOG_CUSTOMIZE=1 -std=c++11 -Wall -Wno-unknown-pragmas -Iinclude   -Idmlc-core/include -Irabit/include -I/include -O3 -funroll-loops -msse2 -fPIC -DDISABLE_OPENMP -MM -MT build/gbm/gblinear.o src/gbm/gblinear.cc >build/gbm/gblinear.d\n",
      "    clang++ -c -DDMLC_LOG_CUSTOMIZE=1 -std=c++11 -Wall -Wno-unknown-pragmas -Iinclude   -Idmlc-core/include -Irabit/include -I/include -O3 -funroll-loops -msse2 -fPIC -DDISABLE_OPENMP src/gbm/gblinear.cc -o build/gbm/gblinear.o\n",
      "    clang++ -DDMLC_LOG_CUSTOMIZE=1 -std=c++11 -Wall -Wno-unknown-pragmas -Iinclude   -Idmlc-core/include -Irabit/include -I/include -O3 -funroll-loops -msse2 -fPIC -DDISABLE_OPENMP -MM -MT build/gbm/gbm.o src/gbm/gbm.cc >build/gbm/gbm.d\n",
      "    clang++ -c -DDMLC_LOG_CUSTOMIZE=1 -std=c++11 -Wall -Wno-unknown-pragmas -Iinclude   -Idmlc-core/include -Irabit/include -I/include -O3 -funroll-loops -msse2 -fPIC -DDISABLE_OPENMP src/gbm/gbm.cc -o build/gbm/gbm.o\n",
      "    clang++ -DDMLC_LOG_CUSTOMIZE=1 -std=c++11 -Wall -Wno-unknown-pragmas -Iinclude   -Idmlc-core/include -Irabit/include -I/include -O3 -funroll-loops -msse2 -fPIC -DDISABLE_OPENMP -MM -MT build/gbm/gbtree.o src/gbm/gbtree.cc >build/gbm/gbtree.d\n",
      "    clang++ -c -DDMLC_LOG_CUSTOMIZE=1 -std=c++11 -Wall -Wno-unknown-pragmas -Iinclude   -Idmlc-core/include -Irabit/include -I/include -O3 -funroll-loops -msse2 -fPIC -DDISABLE_OPENMP src/gbm/gbtree.cc -o build/gbm/gbtree.o\n",
      "    clang++ -DDMLC_LOG_CUSTOMIZE=1 -std=c++11 -Wall -Wno-unknown-pragmas -Iinclude   -Idmlc-core/include -Irabit/include -I/include -O3 -funroll-loops -msse2 -fPIC -DDISABLE_OPENMP -MM -MT build/linear/linear_updater.o src/linear/linear_updater.cc >build/linear/linear_updater.d\n",
      "    clang++ -DDMLC_LOG_CUSTOMIZE=1 -std=c++11 -Wall -Wno-unknown-pragmas -Iinclude   -Idmlc-core/include -Irabit/include -I/include -O3 -funroll-loops -msse2 -fPIC -DDISABLE_OPENMP -MM -MT build/linear/updater_coordinate.o src/linear/updater_coordinate.cc >build/linear/updater_coordinate.d\n",
      "    clang++ -c -DDMLC_LOG_CUSTOMIZE=1 -std=c++11 -Wall -Wno-unknown-pragmas -Iinclude   -Idmlc-core/include -Irabit/include -I/include -O3 -funroll-loops -msse2 -fPIC -DDISABLE_OPENMP src/linear/linear_updater.cc -o build/linear/linear_updater.o\n",
      "    clang++ -c -DDMLC_LOG_CUSTOMIZE=1 -std=c++11 -Wall -Wno-unknown-pragmas -Iinclude   -Idmlc-core/include -Irabit/include -I/include -O3 -funroll-loops -msse2 -fPIC -DDISABLE_OPENMP src/linear/updater_coordinate.cc -o build/linear/updater_coordinate.o\n",
      "    clang++ -DDMLC_LOG_CUSTOMIZE=1 -std=c++11 -Wall -Wno-unknown-pragmas -Iinclude   -Idmlc-core/include -Irabit/include -I/include -O3 -funroll-loops -msse2 -fPIC -DDISABLE_OPENMP -MM -MT build/linear/updater_shotgun.o src/linear/updater_shotgun.cc >build/linear/updater_shotgun.d\n",
      "    clang++ -c -DDMLC_LOG_CUSTOMIZE=1 -std=c++11 -Wall -Wno-unknown-pragmas -Iinclude   -Idmlc-core/include -Irabit/include -I/include -O3 -funroll-loops -msse2 -fPIC -DDISABLE_OPENMP src/linear/updater_shotgun.cc -o build/linear/updater_shotgun.o\n",
      "    clang++ -DDMLC_LOG_CUSTOMIZE=1 -std=c++11 -Wall -Wno-unknown-pragmas -Iinclude   -Idmlc-core/include -Irabit/include -I/include -O3 -funroll-loops -msse2 -fPIC -DDISABLE_OPENMP -MM -MT build/metric/elementwise_metric.o src/metric/elementwise_metric.cc >build/metric/elementwise_metric.d\n",
      "    clang++ -c -DDMLC_LOG_CUSTOMIZE=1 -std=c++11 -Wall -Wno-unknown-pragmas -Iinclude   -Idmlc-core/include -Irabit/include -I/include -O3 -funroll-loops -msse2 -fPIC -DDISABLE_OPENMP src/metric/elementwise_metric.cc -o build/metric/elementwise_metric.o\n",
      "    clang++ -DDMLC_LOG_CUSTOMIZE=1 -std=c++11 -Wall -Wno-unknown-pragmas -Iinclude   -Idmlc-core/include -Irabit/include -I/include -O3 -funroll-loops -msse2 -fPIC -DDISABLE_OPENMP -MM -MT build/metric/metric.o src/metric/metric.cc >build/metric/metric.d\n",
      "    clang++ -c -DDMLC_LOG_CUSTOMIZE=1 -std=c++11 -Wall -Wno-unknown-pragmas -Iinclude   -Idmlc-core/include -Irabit/include -I/include -O3 -funroll-loops -msse2 -fPIC -DDISABLE_OPENMP src/metric/metric.cc -o build/metric/metric.o\n",
      "    clang++ -DDMLC_LOG_CUSTOMIZE=1 -std=c++11 -Wall -Wno-unknown-pragmas -Iinclude   -Idmlc-core/include -Irabit/include -I/include -O3 -funroll-loops -msse2 -fPIC -DDISABLE_OPENMP -MM -MT build/metric/multiclass_metric.o src/metric/multiclass_metric.cc >build/metric/multiclass_metric.d\n",
      "    clang++ -c -DDMLC_LOG_CUSTOMIZE=1 -std=c++11 -Wall -Wno-unknown-pragmas -Iinclude   -Idmlc-core/include -Irabit/include -I/include -O3 -funroll-loops -msse2 -fPIC -DDISABLE_OPENMP src/metric/multiclass_metric.cc -o build/metric/multiclass_metric.o\n",
      "    clang++ -DDMLC_LOG_CUSTOMIZE=1 -std=c++11 -Wall -Wno-unknown-pragmas -Iinclude   -Idmlc-core/include -Irabit/include -I/include -O3 -funroll-loops -msse2 -fPIC -DDISABLE_OPENMP -MM -MT build/metric/rank_metric.o src/metric/rank_metric.cc >build/metric/rank_metric.d\n",
      "    clang++ -c -DDMLC_LOG_CUSTOMIZE=1 -std=c++11 -Wall -Wno-unknown-pragmas -Iinclude   -Idmlc-core/include -Irabit/include -I/include -O3 -funroll-loops -msse2 -fPIC -DDISABLE_OPENMP src/metric/rank_metric.cc -o build/metric/rank_metric.o\n",
      "    clang++ -DDMLC_LOG_CUSTOMIZE=1 -std=c++11 -Wall -Wno-unknown-pragmas -Iinclude   -Idmlc-core/include -Irabit/include -I/include -O3 -funroll-loops -msse2 -fPIC -DDISABLE_OPENMP -MM -MT build/objective/hinge.o src/objective/hinge.cc >build/objective/hinge.d\n",
      "    clang++ -DDMLC_LOG_CUSTOMIZE=1 -std=c++11 -Wall -Wno-unknown-pragmas -Iinclude   -Idmlc-core/include -Irabit/include -I/include -O3 -funroll-loops -msse2 -fPIC -DDISABLE_OPENMP -MM -MT build/objective/multiclass_obj.o src/objective/multiclass_obj.cc >build/objective/multiclass_obj.d\n",
      "    clang++ -c -DDMLC_LOG_CUSTOMIZE=1 -std=c++11 -Wall -Wno-unknown-pragmas -Iinclude   -Idmlc-core/include -Irabit/include -I/include -O3 -funroll-loops -msse2 -fPIC -DDISABLE_OPENMP src/objective/hinge.cc -o build/objective/hinge.o\n",
      "    clang++ -c -DDMLC_LOG_CUSTOMIZE=1 -std=c++11 -Wall -Wno-unknown-pragmas -Iinclude   -Idmlc-core/include -Irabit/include -I/include -O3 -funroll-loops -msse2 -fPIC -DDISABLE_OPENMP src/objective/multiclass_obj.cc -o build/objective/multiclass_obj.o\n",
      "    clang++ -DDMLC_LOG_CUSTOMIZE=1 -std=c++11 -Wall -Wno-unknown-pragmas -Iinclude   -Idmlc-core/include -Irabit/include -I/include -O3 -funroll-loops -msse2 -fPIC -DDISABLE_OPENMP -MM -MT build/objective/objective.o src/objective/objective.cc >build/objective/objective.d\n",
      "    clang++ -c -DDMLC_LOG_CUSTOMIZE=1 -std=c++11 -Wall -Wno-unknown-pragmas -Iinclude   -Idmlc-core/include -Irabit/include -I/include -O3 -funroll-loops -msse2 -fPIC -DDISABLE_OPENMP src/objective/objective.cc -o build/objective/objective.o\n",
      "    In file included from src/objective/multiclass_obj.cc:17:\n",
      "    In file included from src/objective/multiclass_obj.cu:17:\n",
      "    src/objective/../common/transform.h:63:In file included from src/objective/hinge.cc:1723: warning:\n",
      "    : In file included from moving a temporary object prevents copy elision [-Wpessimizing-move]\n",
      "    src/objective/hinge.cu:9:\n",
      "    src/objective/../common/transform.h:63:23: warning: moving a temporary object prevents copy elision [-Wpessimizing-move]\n",
      "            distribution_{std::move(GPUDistribution::Block(devices))} {}\n",
      "                          ^\n",
      "            distribution_{std::move(GPUDistribution::Block(devices))} {}\n",
      "                          ^\n",
      "    src/objective/../common/transform.h:63:23: note: remove std::move call here\n",
      "    src/objective/../common/transform.h:        distribution_{std::move(GPUDistribution::Block(devices))} {}63\n",
      "    :23: note: remove std::move call here                      ^~~~~~~~~~                               ~\n",
      "    \n",
      "            distribution_{std::move(GPUDistribution::Block(devices))} {}\n",
      "                          ^~~~~~~~~~                               ~\n",
      "    src/objective/../common/transform.h:62:9: warning: field 'reshard_' will be initialized after field 'distribution_' [-Wreorder]\n",
      "            reshard_{reshard},\n",
      "            ^\n",
      "    src/objective/../common/transform.h:198:12: note: in instantiation of member function 'xgboost::common::Transform<false>::Evaluator<(lambda at src/objective/hinge.cu:59:9)>::Evaluator' requested here\n",
      "        return Evaluator<Functor> {func, std::move(range), std::move(devices), reshard};\n",
      "               ^\n",
      "    src/objective/hinge.cu:58:26: note: in instantiation of function template specialization 'xgboost::common::Transform<false>::Init<(lambda at src/objective/hinge.cu:59:9)>' requested here\n",
      "        common::Transform<>::Init(\n",
      "                             ^\n",
      "    In file included from src/objective/hinge.cc:17:\n",
      "    In file included from src/objective/hinge.cu:9:\n",
      "    src/objective/../common/transform.h:62:9: warning: field 'reshard_' will be initialized after field 'distribution_' [-Wreorder]\n",
      "            reshard_{reshard},\n",
      "            ^\n",
      "    src/objective/../common/transform.h:198:12: note: in instantiation of member function 'xgboost::common::Transform<false>::Evaluator<(lambda at src/objective/hinge.cu:84:9)>::Evaluator' requested here\n",
      "        return Evaluator<Functor> {func, std::move(range), std::move(devices), reshard};\n",
      "               ^\n",
      "    src/objective/hinge.cu:83:26: note: in instantiation of function template specialization 'xgboost::common::Transform<false>::Init<(lambda at src/objective/hinge.cu:84:9)>' requested here\n",
      "        common::Transform<>::Init(\n",
      "                             ^\n",
      "    src/objective/../common/transform.h:62:9: warning: field 'reshard_' will be initialized after field 'distribution_' [-Wreorder]\n",
      "            reshard_{reshard},\n",
      "            ^\n",
      "    src/objective/../common/transform.h:198:12: note: in instantiation of member function 'xgboost::common::Transform<false>::Evaluator<(lambda at src/objective/multiclass_obj.cu:77:9)>::Evaluator' requested here\n",
      "        return Evaluator<Functor> {func, std::move(range), std::move(devices), reshard};\n",
      "               ^\n",
      "    src/objective/multiclass_obj.cu:76:26: note: in instantiation of function template specialization 'xgboost::common::Transform<false>::Init<(lambda at src/objective/multiclass_obj.cu:77:9)>' requested here\n",
      "        common::Transform<>::Init(\n",
      "                             ^\n",
      "    In file included from src/objective/multiclass_obj.cc:17:\n",
      "    In file included from src/objective/multiclass_obj.cu:17:\n",
      "    src/objective/../common/transform.h:66:48: warning: field 'reshard_' will be initialized after field 'distribution_' [-Wreorder]\n",
      "            func_(func), range_{std::move(range)}, reshard_{reshard},\n",
      "                                                   ^\n",
      "    src/objective/../common/transform.h:204:12: note: in instantiation of member function 'xgboost::common::Transform<false>::Evaluator<(lambda at src/objective/multiclass_obj.cu:131:11)>::Evaluator' requested here\n",
      "        return Evaluator<Functor> {func, std::move(range), std::move(dist), reshard};\n",
      "               ^\n",
      "    src/objective/multiclass_obj.cu:130:28: note: in instantiation of function template specialization 'xgboost::common::Transform<false>::Init<(lambda at src/objective/multiclass_obj.cu:131:11)>' requested here\n",
      "          common::Transform<>::Init(\n",
      "                               ^\n",
      "    In file included from src/objective/multiclass_obj.cc:17:\n",
      "    In file included from src/objective/multiclass_obj.cu:17:\n",
      "    src/objective/../common/transform.h:62:9: warning: field 'reshard_' will be initialized after field 'distribution_' [-Wreorder]\n",
      "            reshard_{reshard},\n",
      "            ^\n",
      "    src/objective/../common/transform.h:198:12: note: in instantiation of member function 'xgboost::common::Transform<false>::Evaluator<(lambda at src/objective/multiclass_obj.cu:142:11)>::Evaluator' requested here\n",
      "        return Evaluator<Functor> {func, std::move(range), std::move(devices), reshard};\n",
      "               ^\n",
      "    src/objective/multiclass_obj.cu:141:28: note: in instantiation of function template specialization 'xgboost::common::Transform<false>::Init<(lambda at src/objective/multiclass_obj.cu:142:11)>' requested here\n",
      "          common::Transform<>::Init(\n",
      "                               ^\n",
      "    clang++ -DDMLC_LOG_CUSTOMIZE=1 -std=c++11 -Wall -Wno-unknown-pragmas -Iinclude   -Idmlc-core/include -Irabit/include -I/include -O3 -funroll-loops -msse2 -fPIC -DDISABLE_OPENMP -MM -MT build/objective/rank_obj.o src/objective/rank_obj.cc >build/objective/rank_obj.d\n",
      "    clang++ -c -DDMLC_LOG_CUSTOMIZE=1 -std=c++11 -Wall -Wno-unknown-pragmas -Iinclude   -Idmlc-core/include -Irabit/include -I/include -O3 -funroll-loops -msse2 -fPIC -DDISABLE_OPENMP src/objective/rank_obj.cc -o build/objective/rank_obj.o\n",
      "    clang++ -DDMLC_LOG_CUSTOMIZE=1 -std=c++11 -Wall -Wno-unknown-pragmas -Iinclude   -Idmlc-core/include -Irabit/include -I/include -O3 -funroll-loops -msse2 -fPIC -DDISABLE_OPENMP -MM -MT build/objective/regression_obj.o src/objective/regression_obj.cc >build/objective/regression_obj.d\n",
      "    clang++ -c -DDMLC_LOG_CUSTOMIZE=1 -std=c++11 -Wall -Wno-unknown-pragmas -Iinclude   -Idmlc-core/include -Irabit/include -I/include -O3 -funroll-loops -msse2 -fPIC -DDISABLE_OPENMP src/objective/regression_obj.cc -o build/objective/regression_obj.o\n",
      "    3 warnings generated.\n",
      "    clang++ -DDMLC_LOG_CUSTOMIZE=1 -std=c++11 -Wall -Wno-unknown-pragmas -Iinclude   -Idmlc-core/include -Irabit/include -I/include -O3 -funroll-loops -msse2 -fPIC -DDISABLE_OPENMP -MM -MT build/predictor/cpu_predictor.o src/predictor/cpu_predictor.cc >build/predictor/cpu_predictor.d\n",
      "    clang++ -c -DDMLC_LOG_CUSTOMIZE=1 -std=c++11 -Wall -Wno-unknown-pragmas -Iinclude   -Idmlc-core/include -Irabit/include -I/include -O3 -funroll-loops -msse2 -fPIC -DDISABLE_OPENMP src/predictor/cpu_predictor.cc -o build/predictor/cpu_predictor.o\n",
      "    4 warnings generated.\n",
      "    clang++ -DDMLC_LOG_CUSTOMIZE=1 -std=c++11 -Wall -Wno-unknown-pragmas -Iinclude   -Idmlc-core/include -Irabit/include -I/include -O3 -funroll-loops -msse2 -fPIC -DDISABLE_OPENMP -MM -MT build/predictor/predictor.o src/predictor/predictor.cc >build/predictor/predictor.d\n",
      "    clang++ -c -DDMLC_LOG_CUSTOMIZE=1 -std=c++11 -Wall -Wno-unknown-pragmas -Iinclude   -Idmlc-core/include -Irabit/include -I/include -O3 -funroll-loops -msse2 -fPIC -DDISABLE_OPENMP src/predictor/predictor.cc -o build/predictor/predictor.o\n",
      "    In file included from src/objective/regression_obj.cc:17:\n",
      "    In file included from src/objective/regression_obj.cu:16:\n",
      "    src/objective/../common/transform.h:63:23: warning: moving a temporary object prevents copy elision [-Wpessimizing-move]\n",
      "            distribution_{std::move(GPUDistribution::Block(devices))} {}\n",
      "                          ^\n",
      "    src/objective/../common/transform.h:63:23: note: remove std::move call here\n",
      "            distribution_{std::move(GPUDistribution::Block(devices))} {}\n",
      "                          ^~~~~~~~~~                               ~\n",
      "    src/objective/../common/transform.h:62:9: warning: field 'reshard_' will be initialized after field 'distribution_' [-Wreorder]\n",
      "            reshard_{reshard},\n",
      "            ^\n",
      "    src/objective/../common/transform.h:198:12: note: in instantiation of member function 'xgboost::common::Transform<false>::Evaluator<(lambda at src/objective/regression_obj.cu:216:9)>::Evaluator' requested here\n",
      "        return Evaluator<Functor> {func, std::move(range), std::move(devices), reshard};\n",
      "               ^\n",
      "    src/objective/regression_obj.cu:215:26: note: in instantiation of function template specialization 'xgboost::common::Transform<false>::Init<(lambda at src/objective/regression_obj.cu:216:9)>' requested here\n",
      "        common::Transform<>::Init(\n",
      "                             ^\n",
      "    In file included from src/objective/regression_obj.cc:17:\n",
      "    In file included from src/objective/regression_obj.cu:16:\n",
      "    src/objective/../common/transform.h:62:9: warning: field 'reshard_' will be initialized after field 'distribution_' [-Wreorder]\n",
      "            reshard_{reshard},\n",
      "            ^\n",
      "    src/objective/../common/transform.h:198:12: note: in instantiation of member function 'xgboost::common::Transform<false>::Evaluator<(lambda at src/objective/regression_obj.cu:243:9)>::Evaluator' requested here\n",
      "        return Evaluator<Functor> {func, std::move(range), std::move(devices), reshard};\n",
      "               ^\n",
      "    src/objective/regression_obj.cu:242:26: note: in instantiation of function template specialization 'xgboost::common::Transform<false>::Init<(lambda at src/objective/regression_obj.cu:243:9)>' requested here\n",
      "        common::Transform<>::Init(\n",
      "                             ^\n",
      "    In file included from src/objective/regression_obj.cc:17:\n",
      "    In file included from src/objective/regression_obj.cu:16:\n",
      "    src/objective/../common/transform.h:62:9: warning: field 'reshard_' will be initialized after field 'distribution_' [-Wreorder]\n",
      "            reshard_{reshard},\n",
      "            ^\n",
      "    src/objective/../common/transform.h:198:12: note: in instantiation of member function 'xgboost::common::Transform<false>::Evaluator<(lambda at src/objective/regression_obj.cu:396:9)>::Evaluator' requested here\n",
      "        return Evaluator<Functor> {func, std::move(range), std::move(devices), reshard};\n",
      "               ^\n",
      "    src/objective/regression_obj.cu:395:26: note: in instantiation of function template specialization 'xgboost::common::Transform<false>::Init<(lambda at src/objective/regression_obj.cu:396:9)>' requested here\n",
      "        common::Transform<>::Init(\n",
      "                             ^\n",
      "    In file included from src/objective/regression_obj.cc:17:\n",
      "    In file included from src/objective/regression_obj.cu:16:\n",
      "    src/objective/../common/transform.h:62:9: warning: field 'reshard_' will be initialized after field 'distribution_' [-Wreorder]\n",
      "            reshard_{reshard},\n",
      "            ^\n",
      "    src/objective/../common/transform.h:198:12: note: in instantiation of member function 'xgboost::common::Transform<false>::Evaluator<(lambda at src/objective/regression_obj.cu:423:9)>::Evaluator' requested here\n",
      "        return Evaluator<Functor> {func, std::move(range), std::move(devices), reshard};\n",
      "               ^\n",
      "    src/objective/regression_obj.cu:422:26: note: in instantiation of function template specialization 'xgboost::common::Transform<false>::Init<(lambda at src/objective/regression_obj.cu:423:9)>' requested here\n",
      "        common::Transform<>::Init(\n",
      "                             ^\n",
      "    In file included from src/objective/regression_obj.cc:17:\n",
      "    In file included from src/objective/regression_obj.cu:16:\n",
      "    src/objective/../common/transform.h:62:9: warning: field 'reshard_' will be initialized after field 'distribution_' [-Wreorder]\n",
      "            reshard_{reshard},\n",
      "            ^\n",
      "    src/objective/../common/transform.h:198:12: note: in instantiation of member function 'xgboost::common::Transform<false>::Evaluator<(lambda at src/objective/regression_obj.cu:493:9)>::Evaluator' requested here\n",
      "        return Evaluator<Functor> {func, std::move(range), std::move(devices), reshard};\n",
      "               ^\n",
      "    src/objective/regression_obj.cu:492:26: note: in instantiation of function template specialization 'xgboost::common::Transform<false>::Init<(lambda at src/objective/regression_obj.cu:493:9)>' requested here\n",
      "        common::Transform<>::Init(\n",
      "                             ^\n",
      "    In file included from src/objective/regression_obj.cc:17:\n",
      "    In file included from src/objective/regression_obj.cu:16:\n",
      "    src/objective/../common/transform.h:62:9: warning: field 'reshard_' will be initialized after field 'distribution_' [-Wreorder]\n",
      "            reshard_{reshard},\n",
      "            ^\n",
      "    src/objective/../common/transform.h:198:12: note: in instantiation of member function 'xgboost::common::Transform<false>::Evaluator<(lambda at src/objective/regression_obj.cu:524:9)>::Evaluator' requested here\n",
      "        return Evaluator<Functor> {func, std::move(range), std::move(devices), reshard};\n",
      "               ^\n",
      "    src/objective/regression_obj.cu:523:26: note: in instantiation of function template specialization 'xgboost::common::Transform<false>::Init<(lambda at src/objective/regression_obj.cu:524:9)>' requested here\n",
      "        common::Transform<>::Init(\n",
      "                             ^\n",
      "    In file included from src/objective/regression_obj.cc:17:\n",
      "    In file included from src/objective/regression_obj.cu:16:\n",
      "    src/objective/../common/transform.h:62:9: warning: field 'reshard_' will be initialized after field 'distribution_' [-Wreorder]\n",
      "            reshard_{reshard},\n",
      "            ^\n",
      "    src/objective/../common/transform.h:198:12: note: in instantiation of member function 'xgboost::common::Transform<false>::Evaluator<(lambda at src/objective/regression_obj.cu:75:9)>::Evaluator' requested here\n",
      "        return Evaluator<Functor> {func, std::move(range), std::move(devices), reshard};\n",
      "               ^\n",
      "    src/objective/regression_obj.cu:74:26: note: in instantiation of function template specialization 'xgboost::common::Transform<false>::Init<(lambda at src/objective/regression_obj.cu:75:9)>' requested here\n",
      "        common::Transform<>::Init(\n",
      "                             ^\n",
      "    src/objective/regression_obj.cu:133:29: note: in instantiation of member function 'xgboost::obj::RegLossObj<xgboost::obj::LinearSquareLoss>::GetGradient' requested here\n",
      "    .set_body([]() { return new RegLossObj<LinearSquareLoss>(); });\n",
      "                                ^\n",
      "    In file included from src/objective/regression_obj.cc:17:\n",
      "    In file included from src/objective/regression_obj.cu:16:\n",
      "    src/objective/../common/transform.h:62:9: warning: field 'reshard_' will be initialized after field 'distribution_' [-Wreorder]\n",
      "            reshard_{reshard},\n",
      "            ^\n",
      "    src/objective/../common/transform.h:198:12: note: in instantiation of member function 'xgboost::common::Transform<false>::Evaluator<(lambda at src/objective/regression_obj.cu:113:9)>::Evaluator' requested here\n",
      "        return Evaluator<Functor> {func, std::move(range), std::move(devices), reshard};\n",
      "               ^\n",
      "    src/objective/regression_obj.cu:112:26: note: in instantiation of function template specialization 'xgboost::common::Transform<false>::Init<(lambda at src/objective/regression_obj.cu:113:9)>' requested here\n",
      "        common::Transform<>::Init(\n",
      "                             ^\n",
      "    src/objective/regression_obj.cu:133:29: note: in instantiation of member function 'xgboost::obj::RegLossObj<xgboost::obj::LinearSquareLoss>::PredTransform' requested here\n",
      "    .set_body([]() { return new RegLossObj<LinearSquareLoss>(); });\n",
      "                                ^\n",
      "    In file included from src/objective/regression_obj.cc:17:\n",
      "    In file included from src/objective/regression_obj.cu:16:\n",
      "    src/objective/../common/transform.h:62:9: warning: field 'reshard_' will be initialized after field 'distribution_' [-Wreorder]\n",
      "            reshard_{reshard},\n",
      "            ^\n",
      "    src/objective/../common/transform.h:198:12: note: in instantiation of member function 'xgboost::common::Transform<false>::Evaluator<(lambda at src/objective/regression_obj.cu:75:9)>::Evaluator' requested here\n",
      "        return Evaluator<Functor> {func, std::move(range), std::move(devices), reshard};\n",
      "               ^\n",
      "    src/objective/regression_obj.cu:74:26: note: in instantiation of function template specialization 'xgboost::common::Transform<false>::Init<(lambda at src/objective/regression_obj.cu:75:9)>' requested here\n",
      "        common::Transform<>::Init(\n",
      "                             ^\n",
      "    src/objective/regression_obj.cu:137:29: note: in instantiation of member function 'xgboost::obj::RegLossObj<xgboost::obj::LogisticRegression>::GetGradient' requested here\n",
      "    .set_body([]() { return new RegLossObj<LogisticRegression>(); });\n",
      "                                ^\n",
      "    In file included from src/objective/regression_obj.cc:17:\n",
      "    In file included from src/objective/regression_obj.cu:16:\n",
      "    src/objective/../common/transform.h:62:9: warning: field 'reshard_' will be initialized after field 'distribution_' [-Wreorder]\n",
      "            reshard_{reshard},\n",
      "            ^\n",
      "    src/objective/../common/transform.h:198:12: note: in instantiation of member function 'xgboost::common::Transform<false>::Evaluator<(lambda at src/objective/regression_obj.cu:113:9)>::Evaluator' requested here\n",
      "        return Evaluator<Functor> {func, std::move(range), std::move(devices), reshard};\n",
      "               ^\n",
      "    src/objective/regression_obj.cu:112:26: note: in instantiation of function template specialization 'xgboost::common::Transform<false>::Init<(lambda at src/objective/regression_obj.cu:113:9)>' requested here\n",
      "        common::Transform<>::Init(\n",
      "                             ^\n",
      "    src/objective/regression_obj.cu:137:29: note: in instantiation of member function 'xgboost::obj::RegLossObj<xgboost::obj::LogisticRegression>::PredTransform' requested here\n",
      "    .set_body([]() { return new RegLossObj<LogisticRegression>(); });\n",
      "                                ^\n",
      "    In file included from src/objective/regression_obj.cc:17:\n",
      "    In file included from src/objective/regression_obj.cu:16:\n",
      "    src/objective/../common/transform.h:62:9: warning: field 'reshard_' will be initialized after field 'distribution_' [-Wreorder]\n",
      "            reshard_{reshard},\n",
      "            ^\n",
      "    src/objective/../common/transform.h:198:12: note: in instantiation of member function 'xgboost::common::Transform<false>::Evaluator<(lambda at src/objective/regression_obj.cu:75:9)>::Evaluator' requested here\n",
      "        return Evaluator<Functor> {func, std::move(range), std::move(devices), reshard};\n",
      "               ^\n",
      "    src/objective/regression_obj.cu:74:26: note: in instantiation of function template specialization 'xgboost::common::Transform<false>::Init<(lambda at src/objective/regression_obj.cu:75:9)>' requested here\n",
      "        common::Transform<>::Init(\n",
      "                             ^\n",
      "    src/objective/regression_obj.cu:141:29: note: in instantiation of member function 'xgboost::obj::RegLossObj<xgboost::obj::LogisticClassification>::GetGradient' requested here\n",
      "    .set_body([]() { return new RegLossObj<LogisticClassification>(); });\n",
      "                                ^\n",
      "    In file included from src/objective/regression_obj.cc:17:\n",
      "    In file included from src/objective/regression_obj.cu:16:\n",
      "    src/objective/../common/transform.h:62:9: warning: field 'reshard_' will be initialized after field 'distribution_' [-Wreorder]\n",
      "            reshard_{reshard},\n",
      "            ^\n",
      "    src/objective/../common/transform.h:198:12: note: in instantiation of member function 'xgboost::common::Transform<false>::Evaluator<(lambda at src/objective/regression_obj.cu:113:9)>::Evaluator' requested here\n",
      "        return Evaluator<Functor> {func, std::move(range), std::move(devices), reshard};\n",
      "               ^\n",
      "    src/objective/regression_obj.cu:112:26: note: in instantiation of function template specialization 'xgboost::common::Transform<false>::Init<(lambda at src/objective/regression_obj.cu:113:9)>' requested here\n",
      "        common::Transform<>::Init(\n",
      "                             ^\n",
      "    src/objective/regression_obj.cu:141:29: note: in instantiation of member function 'xgboost::obj::RegLossObj<xgboost::obj::LogisticClassification>::PredTransform' requested here\n",
      "    .set_body([]() { return new RegLossObj<LogisticClassification>(); });\n",
      "                                ^\n",
      "    In file included from src/objective/regression_obj.cc:17:\n",
      "    In file included from src/objective/regression_obj.cu:16:\n",
      "    src/objective/../common/transform.h:62:9: warning: field 'reshard_' will be initialized after field 'distribution_' [-Wreorder]\n",
      "            reshard_{reshard},\n",
      "            ^\n",
      "    src/objective/../common/transform.h:198:12: note: in instantiation of member function 'xgboost::common::Transform<false>::Evaluator<(lambda at src/objective/regression_obj.cu:75:9)>::Evaluator' requested here\n",
      "        return Evaluator<Functor> {func, std::move(range), std::move(devices), reshard};\n",
      "               ^\n",
      "    src/objective/regression_obj.cu:74:26: note: in instantiation of function template specialization 'xgboost::common::Transform<false>::Init<(lambda at src/objective/regression_obj.cu:75:9)>' requested here\n",
      "        common::Transform<>::Init(\n",
      "                             ^\n",
      "    src/objective/regression_obj.cu:146:29: note: in instantiation of member function 'xgboost::obj::RegLossObj<xgboost::obj::LogisticRaw>::GetGradient' requested here\n",
      "    .set_body([]() { return new RegLossObj<LogisticRaw>(); });\n",
      "                                ^\n",
      "    In file included from src/objective/regression_obj.cc:17:\n",
      "    In file included from src/objective/regression_obj.cu:16:\n",
      "    src/objective/../common/transform.h:62:9: warning: field 'reshard_' will be initialized after field 'distribution_' [-Wreorder]\n",
      "            reshard_{reshard},\n",
      "            ^\n",
      "    src/objective/../common/transform.h:198:12: note: in instantiation of member function 'xgboost::common::Transform<false>::Evaluator<(lambda at src/objective/regression_obj.cu:113:9)>::Evaluator' requested here\n",
      "        return Evaluator<Functor> {func, std::move(range), std::move(devices), reshard};\n",
      "               ^\n",
      "    src/objective/regression_obj.cu:112:26: note: in instantiation of function template specialization 'xgboost::common::Transform<false>::Init<(lambda at src/objective/regression_obj.cu:113:9)>' requested here\n",
      "        common::Transform<>::Init(\n",
      "                             ^\n",
      "    src/objective/regression_obj.cu:146:29: note: in instantiation of member function 'xgboost::obj::RegLossObj<xgboost::obj::LogisticRaw>::PredTransform' requested here\n",
      "    .set_body([]() { return new RegLossObj<LogisticRaw>(); });\n",
      "                                ^\n",
      "    clang++ -DDMLC_LOG_CUSTOMIZE=1 -std=c++11 -Wall -Wno-unknown-pragmas -Iinclude   -Idmlc-core/include -Irabit/include -I/include -O3 -funroll-loops -msse2 -fPIC -DDISABLE_OPENMP -MM -MT build/tree/split_evaluator.o src/tree/split_evaluator.cc >build/tree/split_evaluator.d\n",
      "    clang++ -c -DDMLC_LOG_CUSTOMIZE=1 -std=c++11 -Wall -Wno-unknown-pragmas -Iinclude   -Idmlc-core/include -Irabit/include -I/include -O3 -funroll-loops -msse2 -fPIC -DDISABLE_OPENMP src/tree/split_evaluator.cc -o build/tree/split_evaluator.o\n",
      "    clang++ -DDMLC_LOG_CUSTOMIZE=1 -std=c++11 -Wall -Wno-unknown-pragmas -Iinclude   -Idmlc-core/include -Irabit/include -I/include -O3 -funroll-loops -msse2 -fPIC -DDISABLE_OPENMP -MM -MT build/tree/tree_model.o src/tree/tree_model.cc >build/tree/tree_model.d\n",
      "    clang++ -c -DDMLC_LOG_CUSTOMIZE=1 -std=c++11 -Wall -Wno-unknown-pragmas -Iinclude   -Idmlc-core/include -Irabit/include -I/include -O3 -funroll-loops -msse2 -fPIC -DDISABLE_OPENMP src/tree/tree_model.cc -o build/tree/tree_model.o\n",
      "    clang++ -DDMLC_LOG_CUSTOMIZE=1 -std=c++11 -Wall -Wno-unknown-pragmas -Iinclude   -Idmlc-core/include -Irabit/include -I/include -O3 -funroll-loops -msse2 -fPIC -DDISABLE_OPENMP -MM -MT build/tree/tree_updater.o src/tree/tree_updater.cc >build/tree/tree_updater.d\n",
      "    clang++ -c -DDMLC_LOG_CUSTOMIZE=1 -std=c++11 -Wall -Wno-unknown-pragmas -Iinclude   -Idmlc-core/include -Irabit/include -I/include -O3 -funroll-loops -msse2 -fPIC -DDISABLE_OPENMP src/tree/tree_updater.cc -o build/tree/tree_updater.o\n",
      "    15 warnings generated.\n",
      "    clang++ -DDMLC_LOG_CUSTOMIZE=1 -std=c++11 -Wall -Wno-unknown-pragmas -Iinclude   -Idmlc-core/include -Irabit/include -I/include -O3 -funroll-loops -msse2 -fPIC -DDISABLE_OPENMP -MM -MT build/tree/updater_colmaker.o src/tree/updater_colmaker.cc >build/tree/updater_colmaker.d\n",
      "    clang++ -c -DDMLC_LOG_CUSTOMIZE=1 -std=c++11 -Wall -Wno-unknown-pragmas -Iinclude   -Idmlc-core/include -Irabit/include -I/include -O3 -funroll-loops -msse2 -fPIC -DDISABLE_OPENMP src/tree/updater_colmaker.cc -o build/tree/updater_colmaker.o\n",
      "    clang++ -DDMLC_LOG_CUSTOMIZE=1 -std=c++11 -Wall -Wno-unknown-pragmas -Iinclude   -Idmlc-core/include -Irabit/include -I/include -O3 -funroll-loops -msse2 -fPIC -DDISABLE_OPENMP -MM -MT build/tree/updater_histmaker.o src/tree/updater_histmaker.cc >build/tree/updater_histmaker.d\n",
      "    clang++ -c -DDMLC_LOG_CUSTOMIZE=1 -std=c++11 -Wall -Wno-unknown-pragmas -Iinclude   -Idmlc-core/include -Irabit/include -I/include -O3 -funroll-loops -msse2 -fPIC -DDISABLE_OPENMP src/tree/updater_histmaker.cc -o build/tree/updater_histmaker.o\n",
      "    src/tree/updater_colmaker.cc:248:23: warning: unused variable 'info' [-Wunused-variable]\n",
      "          const MetaInfo& info = p_fmat->Info();\n",
      "                          ^\n",
      "    In file included from src/tree/updater_histmaker.cc:15:\n",
      "    src/tree/./updater_basemaker-inl.h:334:21: warning: unused variable 'info' [-Wunused-variable]\n",
      "        const MetaInfo &info = fmat.Info();\n",
      "                        ^\n",
      "    clang++ -DDMLC_LOG_CUSTOMIZE=1 -std=c++11 -Wall -Wno-unknown-pragmas -Iinclude   -Idmlc-core/include -Irabit/include -I/include -O3 -funroll-loops -msse2 -fPIC -DDISABLE_OPENMP -MM -MT build/tree/updater_prune.o src/tree/updater_prune.cc >build/tree/updater_prune.d\n",
      "    clang++ -c -DDMLC_LOG_CUSTOMIZE=1 -std=c++11 -Wall -Wno-unknown-pragmas -Iinclude   -Idmlc-core/include -Irabit/include -I/include -O3 -funroll-loops -msse2 -fPIC -DDISABLE_OPENMP src/tree/updater_prune.cc -o build/tree/updater_prune.o\n",
      "    clang++ -DDMLC_LOG_CUSTOMIZE=1 -std=c++11 -Wall -Wno-unknown-pragmas -Iinclude   -Idmlc-core/include -Irabit/include -I/include -O3 -funroll-loops -msse2 -fPIC -DDISABLE_OPENMP -MM -MT build/tree/updater_quantile_hist.o src/tree/updater_quantile_hist.cc >build/tree/updater_quantile_hist.d\n",
      "    clang++ -c -DDMLC_LOG_CUSTOMIZE=1 -std=c++11 -Wall -Wno-unknown-pragmas -Iinclude   -Idmlc-core/include -Irabit/include -I/include -O3 -funroll-loops -msse2 -fPIC -DDISABLE_OPENMP src/tree/updater_quantile_hist.cc -o build/tree/updater_quantile_hist.o\n",
      "    In file included from src/tree/updater_quantile_hist.cc:7:\n",
      "    In file included from dmlc-core/include/dmlc/timer.h:10:\n",
      "    In file included from dmlc-core/include/dmlc/./base.h:197:\n",
      "    In file included from /Library/Developer/CommandLineTools/usr/include/c++/v1/string:500:\n",
      "    In file included from /Library/Developer/CommandLineTools/usr/include/c++/v1/string_view:176:\n",
      "    In file included from /Library/Developer/CommandLineTools/usr/include/c++/v1/__string:56:\n",
      "    In file included from /Library/Developer/CommandLineTools/usr/include/c++/v1/algorithm:644:\n",
      "    /Library/Developer/CommandLineTools/usr/include/c++/v1/memory:2335:5: warning: delete called on non-final 'xgboost::tree::QuantileHistMaker::Builder' that has virtual functions but non-virtual destructor [-Wdelete-non-virtual-dtor]\n",
      "        delete __ptr;\n",
      "        ^\n",
      "    /Library/Developer/CommandLineTools/usr/include/c++/v1/memory:2648:7: note: in instantiation of member function 'std::__1::default_delete<xgboost::tree::QuantileHistMaker::Builder>::operator()' requested here\n",
      "          __ptr_.second()(__tmp);\n",
      "          ^\n",
      "    src/tree/updater_quantile_hist.cc:70:14: note: in instantiation of member function 'std::__1::unique_ptr<xgboost::tree::QuantileHistMaker::Builder, std::__1::default_delete<xgboost::tree::QuantileHistMaker::Builder> >::reset' requested here\n",
      "        builder_.reset(new Builder(\n",
      "                 ^\n",
      "    1 warning generated.\n",
      "    clang++ -DDMLC_LOG_CUSTOMIZE=1 -std=c++11 -Wall -Wno-unknown-pragmas -Iinclude   -Idmlc-core/include -Irabit/include -I/include -O3 -funroll-loops -msse2 -fPIC -DDISABLE_OPENMP -MM -MT build/tree/updater_refresh.o src/tree/updater_refresh.cc >build/tree/updater_refresh.d\n",
      "    clang++ -DDMLC_LOG_CUSTOMIZE=1 -std=c++11 -Wall -Wno-unknown-pragmas -Iinclude   -Idmlc-core/include -Irabit/include -I/include -O3 -funroll-loops -msse2 -fPIC -DDISABLE_OPENMP -MM -MT build/tree/updater_skmaker.o src/tree/updater_skmaker.cc >build/tree/updater_skmaker.d\n",
      "    clang++ -c -DDMLC_LOG_CUSTOMIZE=1 -std=c++11 -Wall -Wno-unknown-pragmas -Iinclude   -Idmlc-core/include -Irabit/include -I/include -O3 -funroll-loops -msse2 -fPIC -DDISABLE_OPENMP src/tree/updater_refresh.cc -o build/tree/updater_refresh.o\n",
      "    clang++ -c -DDMLC_LOG_CUSTOMIZE=1 -std=c++11 -Wall -Wno-unknown-pragmas -Iinclude   -Idmlc-core/include -Irabit/include -I/include -O3 -funroll-loops -msse2 -fPIC -DDISABLE_OPENMP src/tree/updater_skmaker.cc -o build/tree/updater_skmaker.o\n",
      "    In file included from src/tree/updater_skmaker.cc:16:\n",
      "    src/tree/./updater_basemaker-inl.h:334:21: warning: unused variable 'info' [-Wunused-variable]\n",
      "        const MetaInfo &info = fmat.Info();\n",
      "                        ^\n",
      "    1 warning generated.\n",
      "    clang++ -DDMLC_LOG_CUSTOMIZE=1 -std=c++11 -Wall -Wno-unknown-pragmas -Iinclude   -Idmlc-core/include -Irabit/include -I/include -O3 -funroll-loops -msse2 -fPIC -DDISABLE_OPENMP -MM -MT build/tree/updater_sync.o src/tree/updater_sync.cc >build/tree/updater_sync.d\n",
      "    clang++ -c -DDMLC_LOG_CUSTOMIZE=1 -std=c++11 -Wall -Wno-unknown-pragmas -Iinclude   -Idmlc-core/include -Irabit/include -I/include -O3 -funroll-loops -msse2 -fPIC -DDISABLE_OPENMP src/tree/updater_sync.cc -o build/tree/updater_sync.o\n",
      "    cd dmlc-core; \"/Library/Developer/CommandLineTools/usr/bin/make\" libdmlc.a config=/private/var/folders/jl/8fzlq6gd5hg7j9rl05wsmjn40000gp/T/pip-install-dtyMS_/xgboost/xgboost/make/config.mk; cd /private/var/folders/jl/8fzlq6gd5hg7j9rl05wsmjn40000gp/T/pip-install-dtyMS_/xgboost/xgboost\n",
      "    clang++ -c -O3 -Wall -Wno-unknown-pragmas -Iinclude -std=c++0x -fPIC -DDMLC_USE_HDFS=0 -DDMLC_USE_S3=0 -DDMLC_USE_AZURE=0  -msse2 -o line_split.o src/io/line_split.cc\n",
      "    1 warning generated.\n",
      "    clang++ -c -O3 -Wall -Wno-unknown-pragmas -Iinclude -std=c++0x -fPIC -DDMLC_USE_HDFS=0 -DDMLC_USE_S3=0 -DDMLC_USE_AZURE=0  -msse2 -o indexed_recordio_split.o src/io/indexed_recordio_split.cc\n",
      "    cd rabit; \"/Library/Developer/CommandLineTools/usr/bin/make\" lib/librabit.a USE_SSE=1; cd /private/var/folders/jl/8fzlq6gd5hg7j9rl05wsmjn40000gp/T/pip-install-dtyMS_/xgboost/xgboost\n",
      "    clang++ -c -O3 -Wall -Wextra -Wno-unused-parameter -Wno-unknown-pragmas -std=c++0x -msse2 -fPIC -o allreduce_base.o src/allreduce_base.cc\n",
      "    clang++ -c -O3 -Wall -Wno-unknown-pragmas -Iinclude -std=c++0x -fPIC -DDMLC_USE_HDFS=0 -DDMLC_USE_S3=0 -DDMLC_USE_AZURE=0  -msse2 -o recordio_split.o src/io/recordio_split.cc\n",
      "    1 warning generated.\n",
      "    clang++ -c -O3 -Wall -Wextra -Wno-unused-parameter -Wno-unknown-pragmas -std=c++0x -msse2 -fPIC -o allreduce_robust.o src/allreduce_robust.cc\n",
      "    clang++ -c -O3 -Wall -Wextra -Wno-unused-parameter -Wno-unknown-pragmas -std=c++0x -msse2 -fPIC -o engine.o src/engine.cc\n",
      "    clang++ -c -O3 -Wall -Wno-unknown-pragmas -Iinclude -std=c++0x -fPIC -DDMLC_USE_HDFS=0 -DDMLC_USE_S3=0 -DDMLC_USE_AZURE=0  -msse2 -o input_split_base.o src/io/input_split_base.cc\n",
      "    clang++ -c -O3 -Wall -Wno-unknown-pragmas -Iinclude -std=c++0x -fPIC -DDMLC_USE_HDFS=0 -DDMLC_USE_S3=0 -DDMLC_USE_AZURE=0  -msse2 -o io.o src/io.cc\n",
      "    clang++ -c -O3 -Wall -Wno-unknown-pragmas -Iinclude -std=c++0x -fPIC -DDMLC_USE_HDFS=0 -DDMLC_USE_S3=0 -DDMLC_USE_AZURE=0  -msse2 -o filesys.o src/io/filesys.cc\n",
      "    clang++ -c -O3 -Wall -Wextra -Wno-unused-parameter -Wno-unknown-pragmas -std=c++0x -msse2 -fPIC -o c_api.o src/c_api.cc\n",
      "    clang++ -c -O3 -Wall -Wno-unknown-pragmas -Iinclude -std=c++0x -fPIC -DDMLC_USE_HDFS=0 -DDMLC_USE_S3=0 -DDMLC_USE_AZURE=0  -msse2 -o local_filesys.o src/io/local_filesys.cc\n",
      "    ar cr lib/librabit.a allreduce_base.o allreduce_robust.o engine.o c_api.o\n",
      "    clang++ -c -O3 -Wall -Wno-unknown-pragmas -Iinclude -std=c++0x -fPIC -DDMLC_USE_HDFS=0 -DDMLC_USE_S3=0 -DDMLC_USE_AZURE=0  -msse2 -o data.o src/data.cc\n",
      "    clang++ -c -O3 -Wall -Wno-unknown-pragmas -Iinclude -std=c++0x -fPIC -DDMLC_USE_HDFS=0 -DDMLC_USE_S3=0 -DDMLC_USE_AZURE=0  -msse2 -o recordio.o src/recordio.cc\n",
      "    clang++ -c -O3 -Wall -Wno-unknown-pragmas -Iinclude -std=c++0x -fPIC -DDMLC_USE_HDFS=0 -DDMLC_USE_S3=0 -DDMLC_USE_AZURE=0  -msse2 -o config.o src/config.cc\n",
      "    /anaconda3/bin/x86_64-apple-darwin13.4.0-ar cr libdmlc.a line_split.o indexed_recordio_split.o recordio_split.o input_split_base.o io.o filesys.o local_filesys.o data.o recordio.o config.o\n",
      "    /anaconda3/bin/x86_64-apple-darwin13.4.0-ranlib: object: libdmlc.a(line_split.o) malformed object (unknown load command 1)\n",
      "    /anaconda3/bin/x86_64-apple-darwin13.4.0-ar: internal ranlib command failed\n",
      "    make[1]: *** [libdmlc.a] Error 1\n",
      "    clang++ -DDMLC_LOG_CUSTOMIZE=1 -std=c++11 -Wall -Wno-unknown-pragmas -Iinclude   -Idmlc-core/include -Irabit/include -I/include -O3 -funroll-loops -msse2 -fPIC -DDISABLE_OPENMP -shared -o lib/libxgboost.dylib build/learner.o build/logging.o build/c_api/c_api.o build/c_api/c_api_error.o build/common/common.o build/common/hist_util.o build/common/host_device_vector.o build/data/data.o build/data/simple_csr_source.o build/data/simple_dmatrix.o build/data/sparse_page_dmatrix.o build/data/sparse_page_raw_format.o build/data/sparse_page_source.o build/data/sparse_page_writer.o build/gbm/gblinear.o build/gbm/gbm.o build/gbm/gbtree.o build/linear/linear_updater.o build/linear/updater_coordinate.o build/linear/updater_shotgun.o build/metric/elementwise_metric.o build/metric/metric.o build/metric/multiclass_metric.o build/metric/rank_metric.o build/objective/hinge.o build/objective/multiclass_obj.o build/objective/objective.o build/objective/rank_obj.o build/objective/regression_obj.o build/predictor/cpu_predictor.o build/predictor/predictor.o build/tree/split_evaluator.o build/tree/tree_model.o build/tree/tree_updater.o build/tree/updater_colmaker.o build/tree/updater_histmaker.o build/tree/updater_prune.o build/tree/updater_quantile_hist.o build/tree/updater_refresh.o build/tree/updater_skmaker.o build/tree/updater_sync.o dmlc-core/libdmlc.a rabit/lib/librabit.a -pthread -lm\n",
      "    ld: archive has no table of contents file 'dmlc-core/libdmlc.a' for architecture x86_64\n",
      "    clang: error: linker command failed with exit code 1 (use -v to see invocation)\n",
      "    make: *** [lib/libxgboost.dylib] Error 1\n",
      "    Traceback (most recent call last):\n",
      "      File \"<string>\", line 1, in <module>\n",
      "      File \"/private/var/folders/jl/8fzlq6gd5hg7j9rl05wsmjn40000gp/T/pip-install-dtyMS_/xgboost/setup.py\", line 42, in <module>\n",
      "        LIB_PATH = libpath['find_lib_path']()\n",
      "      File \"/private/var/folders/jl/8fzlq6gd5hg7j9rl05wsmjn40000gp/T/pip-install-dtyMS_/xgboost/xgboost/libpath.py\", line 49, in find_lib_path\n",
      "        'List of candidates:\\n' + ('\\n'.join(dll_path)))\n",
      "    __builtin__.XGBoostLibraryNotFound: Cannot find XGBoost Library in the candidate path, did you install compilers and run build.sh in root path?\n",
      "    List of candidates:\n",
      "    /private/var/folders/jl/8fzlq6gd5hg7j9rl05wsmjn40000gp/T/pip-install-dtyMS_/xgboost/xgboost/libxgboost.dylib\n",
      "    /private/var/folders/jl/8fzlq6gd5hg7j9rl05wsmjn40000gp/T/pip-install-dtyMS_/xgboost/xgboost/../../lib/libxgboost.dylib\n",
      "    /private/var/folders/jl/8fzlq6gd5hg7j9rl05wsmjn40000gp/T/pip-install-dtyMS_/xgboost/xgboost/./lib/libxgboost.dylib\n",
      "    /usr/local/Cellar/python@2/2.7.16/Frameworks/Python.framework/Versions/2.7/xgboost/libxgboost.dylib\n",
      "    ----------------------------------------\u001b[0m\n"
     ]
    },
    {
     "name": "stdout",
     "output_type": "stream",
     "text": [
      "\u001b[31mERROR: Command \"python setup.py egg_info\" failed with error code 1 in /private/var/folders/jl/8fzlq6gd5hg7j9rl05wsmjn40000gp/T/pip-install-dtyMS_/xgboost/\u001b[0m\r\n"
     ]
    }
   ],
   "source": [
    "!pip install xgboost"
   ]
  },
  {
   "cell_type": "code",
   "execution_count": null,
   "metadata": {},
   "outputs": [],
   "source": []
  }
 ],
 "metadata": {
  "kernelspec": {
   "display_name": "Python 3",
   "language": "python",
   "name": "python3"
  },
  "language_info": {
   "codemirror_mode": {
    "name": "ipython",
    "version": 3
   },
   "file_extension": ".py",
   "mimetype": "text/x-python",
   "name": "python",
   "nbconvert_exporter": "python",
   "pygments_lexer": "ipython3",
   "version": "3.7.3"
  }
 },
 "nbformat": 4,
 "nbformat_minor": 2
}
