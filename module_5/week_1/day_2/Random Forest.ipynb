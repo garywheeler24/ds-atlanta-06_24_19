{
 "cells": [
  {
   "cell_type": "markdown",
   "metadata": {},
   "source": [
    "# Random Forest\n",
    "\n",
    "Slides: [link](https://docs.google.com/presentation/d/18KIHEHceqyeOGEOSPFZY-GWKGejYfztpqVruwCuf-QU/edit?usp=sharing)"
   ]
  },
  {
   "cell_type": "code",
   "execution_count": 88,
   "metadata": {},
   "outputs": [],
   "source": [
    "%matplotlib inline\n",
    "import numpy as np\n",
    "import matplotlib.pyplot as plt\n",
    "#import seaborn as sns; sns.set()\n",
    "import pandas as pd\n",
    "from sklearn.tree import DecisionTreeClassifier\n",
    "from sklearn.ensemble import RandomForestClassifier\n",
    "from IPython.display import Image  \n",
    "from sklearn import tree\n",
    "import pydotplus\n",
    "from sklearn import metrics\n",
    "#from sklearn.metrics import confusion_matrix\n",
    "from sklearn import preprocessing\n",
    "from sklearn.model_selection import train_test_split\n",
    "#from sklearn.metrics import f1_score\n",
    "from sklearn.model_selection import cross_val_score\n",
    "from sklearn.model_selection import GridSearchCV"
   ]
  },
  {
   "cell_type": "markdown",
   "metadata": {},
   "source": [
    "### Breast Cancer Random Forest Classifier"
   ]
  },
  {
   "cell_type": "code",
<<<<<<< HEAD
   "execution_count": 89,
=======
   "execution_count": 2,
>>>>>>> b671cbfaabd00957eede4795c9e1678d4d0de30f
   "metadata": {},
   "outputs": [],
   "source": [
    "bc=pd.read_csv('breast_cancer_scikit_onehot_dataset.csv')"
   ]
  },
  {
   "cell_type": "code",
<<<<<<< HEAD
   "execution_count": 90,
=======
   "execution_count": 3,
>>>>>>> b671cbfaabd00957eede4795c9e1678d4d0de30f
   "metadata": {},
   "outputs": [],
   "source": [
    "target=bc['class']\n",
    "target = bc['class'].map(lambda x: 1 if x == 4 else 0).values \n",
    "target = pd.Series(target)"
   ]
  },
  {
   "cell_type": "code",
<<<<<<< HEAD
   "execution_count": 91,
=======
   "execution_count": 4,
>>>>>>> b671cbfaabd00957eede4795c9e1678d4d0de30f
   "metadata": {},
   "outputs": [
    {
     "data": {
      "text/html": [
       "<div>\n",
       "<style scoped>\n",
       "    .dataframe tbody tr th:only-of-type {\n",
       "        vertical-align: middle;\n",
       "    }\n",
       "\n",
       "    .dataframe tbody tr th {\n",
       "        vertical-align: top;\n",
       "    }\n",
       "\n",
       "    .dataframe thead th {\n",
       "        text-align: right;\n",
       "    }\n",
       "</style>\n",
       "<table border=\"1\" class=\"dataframe\">\n",
       "  <thead>\n",
       "    <tr style=\"text-align: right;\">\n",
       "      <th></th>\n",
       "      <th>clump_thickness</th>\n",
       "      <th>uniformity_of_cell_size</th>\n",
       "      <th>uniformity_of_cell_shape</th>\n",
       "      <th>marginal_adhesion</th>\n",
       "      <th>single_epithelial_cell_size</th>\n",
       "      <th>bare_nuclei</th>\n",
       "      <th>bland_chromatin</th>\n",
       "      <th>normal_nucleoli</th>\n",
       "      <th>mitosis</th>\n",
       "    </tr>\n",
       "  </thead>\n",
       "  <tbody>\n",
       "    <tr>\n",
       "      <th>0</th>\n",
       "      <td>5.0</td>\n",
       "      <td>1.0</td>\n",
       "      <td>1.0</td>\n",
       "      <td>1.0</td>\n",
       "      <td>2.0</td>\n",
       "      <td>1.0</td>\n",
       "      <td>3.0</td>\n",
       "      <td>1.0</td>\n",
       "      <td>1.0</td>\n",
       "    </tr>\n",
       "    <tr>\n",
       "      <th>1</th>\n",
       "      <td>5.0</td>\n",
       "      <td>4.0</td>\n",
       "      <td>4.0</td>\n",
       "      <td>5.0</td>\n",
       "      <td>7.0</td>\n",
       "      <td>10.0</td>\n",
       "      <td>3.0</td>\n",
       "      <td>2.0</td>\n",
       "      <td>1.0</td>\n",
       "    </tr>\n",
       "    <tr>\n",
       "      <th>2</th>\n",
       "      <td>3.0</td>\n",
       "      <td>1.0</td>\n",
       "      <td>1.0</td>\n",
       "      <td>1.0</td>\n",
       "      <td>2.0</td>\n",
       "      <td>2.0</td>\n",
       "      <td>3.0</td>\n",
       "      <td>1.0</td>\n",
       "      <td>1.0</td>\n",
       "    </tr>\n",
       "    <tr>\n",
       "      <th>3</th>\n",
       "      <td>6.0</td>\n",
       "      <td>8.0</td>\n",
       "      <td>8.0</td>\n",
       "      <td>1.0</td>\n",
       "      <td>3.0</td>\n",
       "      <td>4.0</td>\n",
       "      <td>3.0</td>\n",
       "      <td>7.0</td>\n",
       "      <td>1.0</td>\n",
       "    </tr>\n",
       "    <tr>\n",
       "      <th>4</th>\n",
       "      <td>4.0</td>\n",
       "      <td>1.0</td>\n",
       "      <td>1.0</td>\n",
       "      <td>3.0</td>\n",
       "      <td>2.0</td>\n",
       "      <td>1.0</td>\n",
       "      <td>3.0</td>\n",
       "      <td>1.0</td>\n",
       "      <td>1.0</td>\n",
       "    </tr>\n",
       "  </tbody>\n",
       "</table>\n",
       "</div>"
      ],
      "text/plain": [
       "   clump_thickness  uniformity_of_cell_size  uniformity_of_cell_shape  \\\n",
       "0              5.0                      1.0                       1.0   \n",
       "1              5.0                      4.0                       4.0   \n",
       "2              3.0                      1.0                       1.0   \n",
       "3              6.0                      8.0                       8.0   \n",
       "4              4.0                      1.0                       1.0   \n",
       "\n",
       "   marginal_adhesion  single_epithelial_cell_size  bare_nuclei  \\\n",
       "0                1.0                          2.0          1.0   \n",
       "1                5.0                          7.0         10.0   \n",
       "2                1.0                          2.0          2.0   \n",
       "3                1.0                          3.0          4.0   \n",
       "4                3.0                          2.0          1.0   \n",
       "\n",
       "   bland_chromatin  normal_nucleoli  mitosis  \n",
       "0              3.0              1.0      1.0  \n",
       "1              3.0              2.0      1.0  \n",
       "2              3.0              1.0      1.0  \n",
       "3              3.0              7.0      1.0  \n",
       "4              3.0              1.0      1.0  "
      ]
     },
<<<<<<< HEAD
     "execution_count": 91,
=======
     "execution_count": 4,
>>>>>>> b671cbfaabd00957eede4795c9e1678d4d0de30f
     "metadata": {},
     "output_type": "execute_result"
    }
   ],
   "source": [
    "predictor=bc.drop(columns=['class'])\n",
    "predictor.head()"
   ]
  },
  {
   "cell_type": "code",
<<<<<<< HEAD
   "execution_count": 92,
=======
   "execution_count": 5,
>>>>>>> b671cbfaabd00957eede4795c9e1678d4d0de30f
   "metadata": {},
   "outputs": [
    {
     "data": {
      "text/plain": [
       "0    0.634446\n",
       "1    0.365554\n",
       "dtype: float64"
      ]
     },
<<<<<<< HEAD
     "execution_count": 92,
=======
     "execution_count": 5,
>>>>>>> b671cbfaabd00957eede4795c9e1678d4d0de30f
     "metadata": {},
     "output_type": "execute_result"
    }
   ],
   "source": [
    "target.value_counts(normalize=True)"
   ]
  },
  {
   "cell_type": "code",
<<<<<<< HEAD
   "execution_count": 93,
=======
   "execution_count": 6,
>>>>>>> b671cbfaabd00957eede4795c9e1678d4d0de30f
   "metadata": {},
   "outputs": [],
   "source": [
    "# Import train_test_split function\n",
    "# Split dataset into training set and test set\n",
    "X_train, X_test, y_train, y_test = train_test_split(predictor, target, test_size=0.3,random_state=9) "
   ]
  },
  {
   "cell_type": "code",
<<<<<<< HEAD
   "execution_count": 94,
=======
   "execution_count": 7,
>>>>>>> b671cbfaabd00957eede4795c9e1678d4d0de30f
   "metadata": {},
   "outputs": [
    {
     "data": {
      "text/plain": [
       "RandomForestClassifier(bootstrap=True, class_weight='balanced',\n",
       "                       criterion='gini', max_depth=None, max_features='auto',\n",
       "                       max_leaf_nodes=16, min_impurity_decrease=0.0,\n",
       "                       min_impurity_split=None, min_samples_leaf=1,\n",
       "                       min_samples_split=2, min_weight_fraction_leaf=0.0,\n",
       "                       n_estimators=500, n_jobs=-1, oob_score=False,\n",
       "                       random_state=None, verbose=0, warm_start=False)"
      ]
     },
<<<<<<< HEAD
     "execution_count": 94,
=======
     "execution_count": 7,
>>>>>>> b671cbfaabd00957eede4795c9e1678d4d0de30f
     "metadata": {},
     "output_type": "execute_result"
    }
   ],
   "source": [
    "# fit our model\n",
    "rnd_clf = RandomForestClassifier(n_estimators=500, max_leaf_nodes=16,class_weight='balanced', n_jobs=-1)\n",
    "rnd_clf.fit(X_train, y_train)"
   ]
  },
  {
   "cell_type": "code",
<<<<<<< HEAD
   "execution_count": 95,
=======
   "execution_count": 8,
>>>>>>> b671cbfaabd00957eede4795c9e1678d4d0de30f
   "metadata": {},
   "outputs": [],
   "source": [
    "importances = rnd_clf.feature_importances_"
   ]
  },
  {
   "cell_type": "code",
<<<<<<< HEAD
   "execution_count": 96,
=======
   "execution_count": 9,
>>>>>>> b671cbfaabd00957eede4795c9e1678d4d0de30f
   "metadata": {},
   "outputs": [
    {
     "data": {
<<<<<<< HEAD
      "image/png": "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\n",
=======
      "image/png": "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\n",
>>>>>>> b671cbfaabd00957eede4795c9e1678d4d0de30f
      "text/plain": [
       "<Figure size 432x288 with 1 Axes>"
      ]
     },
     "metadata": {},
     "output_type": "display_data"
    }
   ],
   "source": [
    "# creating list of column names\n",
    "feat_names=list(X_train)\n",
    "\n",
    "# Sort feature importances in descending order\n",
    "indices = np.argsort(importances)[::-1]\n",
    "\n",
    "# Rearrange feature names so they match the sorted feature importances\n",
    "names = [feat_names[i] for i in indices]\n",
    "\n",
    "# Create plot\n",
    "plt.figure()\n",
    "\n",
    "# Create plot title\n",
    "plt.title(\"Feature Importance\")\n",
    "\n",
    "# Add bars\n",
    "plt.bar(range(X_train.shape[1]), importances[indices])\n",
    "\n",
    "# Add feature names as x-axis labels\n",
    "plt.xticks(range(X_train.shape[1]), names, rotation=90)\n",
    "\n",
    "# Show plot\n",
    "plt.show()"
   ]
  },
  {
   "cell_type": "code",
<<<<<<< HEAD
   "execution_count": 97,
=======
   "execution_count": null,
>>>>>>> b671cbfaabd00957eede4795c9e1678d4d0de30f
   "metadata": {},
   "outputs": [],
   "source": [
    "# Predictions for the test data\n",
    "y_pred = rnd_clf.predict(X_test)"
   ]
  },
  {
   "cell_type": "code",
<<<<<<< HEAD
   "execution_count": 98,
   "metadata": {},
   "outputs": [
    {
     "data": {
      "text/plain": [
       "array([[0.99863887, 0.00136113],\n",
       "       [0.30171755, 0.69828245],\n",
       "       [0.99884482, 0.00115518],\n",
       "       [0.0405791 , 0.9594209 ],\n",
       "       [0.99861982, 0.00138018]])"
      ]
     },
     "execution_count": 98,
     "metadata": {},
     "output_type": "execute_result"
    }
   ],
=======
   "execution_count": null,
   "metadata": {},
   "outputs": [],
>>>>>>> b671cbfaabd00957eede4795c9e1678d4d0de30f
   "source": [
    "# Class Probailities\n",
    "yprob = rnd_clf.predict_proba(X_test)\n",
    "yprob\n",
    "yprob[:5]"
   ]
  },
  {
   "cell_type": "code",
<<<<<<< HEAD
   "execution_count": 99,
   "metadata": {},
   "outputs": [
    {
     "name": "stdout",
     "output_type": "stream",
     "text": [
      "Accuracy: 0.9590643274853801\n"
     ]
    }
   ],
=======
   "execution_count": null,
   "metadata": {},
   "outputs": [],
>>>>>>> b671cbfaabd00957eede4795c9e1678d4d0de30f
   "source": [
    "# Model Accuracy, how often is the classifier correct?\n",
    "print(\"Accuracy:\",metrics.accuracy_score(y_test, y_pred))"
   ]
  },
  {
   "cell_type": "code",
<<<<<<< HEAD
   "execution_count": 100,
   "metadata": {},
   "outputs": [
    {
     "data": {
      "text/plain": [
       "array([[97,  4],\n",
       "       [ 3, 67]])"
      ]
     },
     "execution_count": 100,
     "metadata": {},
     "output_type": "execute_result"
    }
   ],
=======
   "execution_count": null,
   "metadata": {},
   "outputs": [],
>>>>>>> b671cbfaabd00957eede4795c9e1678d4d0de30f
   "source": [
    "cm=confusion_matrix(y_test, y_pred)\n",
    "cm"
   ]
  },
  {
   "cell_type": "code",
<<<<<<< HEAD
   "execution_count": 101,
   "metadata": {},
   "outputs": [
    {
     "data": {
      "image/png": "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\n",
      "text/plain": [
       "<Figure size 396x288 with 2 Axes>"
      ]
     },
     "metadata": {},
     "output_type": "display_data"
    }
   ],
=======
   "execution_count": null,
   "metadata": {},
   "outputs": [],
>>>>>>> b671cbfaabd00957eede4795c9e1678d4d0de30f
   "source": [
    "# Transform to df for easier plotting\n",
    "cm_df = pd.DataFrame(cm)\n",
    "plt.figure(figsize=(5.5,4))\n",
    "sns.heatmap(cm_df, annot=True)\n",
    "plt.title('Decision Tree Classifier')\n",
    "plt.ylabel('True label')\n",
    "plt.xlabel('Predicted label')\n",
    "plt.show()"
   ]
  },
  {
   "cell_type": "code",
<<<<<<< HEAD
   "execution_count": 102,
   "metadata": {},
   "outputs": [
    {
     "data": {
      "text/plain": [
       "0.9503546099290779"
      ]
     },
     "execution_count": 102,
     "metadata": {},
     "output_type": "execute_result"
    }
   ],
=======
   "execution_count": null,
   "metadata": {},
   "outputs": [],
>>>>>>> b671cbfaabd00957eede4795c9e1678d4d0de30f
   "source": [
    "from sklearn.metrics import f1_score\n",
    "f1_score(y_test, y_pred)"
   ]
  },
  {
   "cell_type": "markdown",
   "metadata": {},
   "source": [
    "# Grid Search"
   ]
  },
  {
   "cell_type": "markdown",
   "metadata": {},
   "source": [
    "RandomForestClassifier(bootstrap=True, class_weight='balanced',\n",
    "            criterion='gini', max_depth=None, max_features='auto',\n",
    "            max_leaf_nodes=16, min_impurity_decrease=0.0,\n",
    "            min_impurity_split=None, min_samples_leaf=1,\n",
    "            min_samples_split=2, min_weight_fraction_leaf=0.0,\n",
    "            n_estimators=500, n_jobs=-1, oob_score=False,\n",
    "            random_state=None, verbose=0, warm_start=False)"
   ]
  },
  {
   "cell_type": "code",
<<<<<<< HEAD
   "execution_count": 103,
   "metadata": {},
   "outputs": [
    {
     "data": {
      "text/plain": [
       "GridSearchCV(cv=5, error_score='raise-deprecating',\n",
       "             estimator=RandomForestClassifier(bootstrap=True, class_weight=None,\n",
       "                                              criterion='gini', max_depth=None,\n",
       "                                              max_features='auto',\n",
       "                                              max_leaf_nodes=None,\n",
       "                                              min_impurity_decrease=0.0,\n",
       "                                              min_impurity_split=None,\n",
       "                                              min_samples_leaf=1,\n",
       "                                              min_samples_split=2,\n",
       "                                              min_weight_fraction_leaf=0.0,\n",
       "                                              n_estimators='warn', n_jobs=None,\n",
       "                                              oob_score=False,\n",
       "                                              random_state=None, verbose=0,\n",
       "                                              warm_start=False),\n",
       "             iid='warn', n_jobs=None,\n",
       "             param_grid=[{'class_weight': ['balanced'],\n",
       "                          'max_features': [2, 4, 6, 8],\n",
       "                          'max_leaf_nodes': [5, 10, 15, 20],\n",
       "                          'n_estimators': [3, 10, 1000]}],\n",
       "             pre_dispatch='2*n_jobs', refit=True, return_train_score=True,\n",
       "             scoring='f1', verbose=0)"
      ]
     },
     "execution_count": 103,
     "metadata": {},
     "output_type": "execute_result"
    }
   ],
=======
   "execution_count": null,
   "metadata": {},
   "outputs": [],
>>>>>>> b671cbfaabd00957eede4795c9e1678d4d0de30f
   "source": [
    "# parameters we are interested in exploring\n",
    "param_grid = [{'n_estimators': [4,6,7,10], 'max_features': [2, 4, 6, 8],  'max_leaf_nodes':[5,10,15,20],'class_weight':['balanced']},]\n",
    "forest_clf = RandomForestClassifier()\n",
    "grid_search = GridSearchCV(forest_clf, param_grid, cv=5,scoring='f1',return_train_score=True)\n",
    "\n",
    "#fit model with parameters from grid search\n",
    "grid_search.fit(X_train, y_train)"
   ]
  },
  {
   "cell_type": "code",
<<<<<<< HEAD
   "execution_count": 18,
   "metadata": {},
   "outputs": [
    {
     "data": {
      "text/plain": [
       "{'class_weight': 'balanced',\n",
       " 'max_features': 2,\n",
       " 'max_leaf_nodes': 10,\n",
       " 'n_estimators': 1000}"
      ]
     },
     "execution_count": 18,
     "metadata": {},
     "output_type": "execute_result"
    }
   ],
=======
   "execution_count": null,
   "metadata": {},
   "outputs": [],
>>>>>>> b671cbfaabd00957eede4795c9e1678d4d0de30f
   "source": [
    "# Return the best parameters\n",
    "grid_search.best_params_"
   ]
  },
  {
   "cell_type": "code",
<<<<<<< HEAD
   "execution_count": 19,
=======
   "execution_count": null,
>>>>>>> b671cbfaabd00957eede4795c9e1678d4d0de30f
   "metadata": {},
   "outputs": [],
   "source": [
    "y_pred = grid_search.predict(X_test)"
   ]
  },
  {
   "cell_type": "code",
<<<<<<< HEAD
   "execution_count": 20,
=======
   "execution_count": null,
>>>>>>> b671cbfaabd00957eede4795c9e1678d4d0de30f
   "metadata": {},
   "outputs": [],
   "source": [
    "print(\"Accuracy:\",metrics.accuracy_score(y_test, y_pred))"
   ]
  },
  {
   "cell_type": "code",
<<<<<<< HEAD
   "execution_count": 21,
   "metadata": {
    "scrolled": true
   },
   "outputs": [
    {
     "data": {
      "text/plain": [
       "0.9650349650349651"
      ]
     },
     "execution_count": 21,
     "metadata": {},
     "output_type": "execute_result"
    }
   ],
=======
   "execution_count": null,
   "metadata": {},
   "outputs": [],
>>>>>>> b671cbfaabd00957eede4795c9e1678d4d0de30f
   "source": [
    "print(\"f1 Score:\",f1_score(y_test, y_pred))"
   ]
  },
  {
   "cell_type": "code",
   "execution_count": null,
   "metadata": {},
   "outputs": [],
   "source": []
  },
  {
   "cell_type": "markdown",
   "metadata": {},
   "source": [
    "## Class Work \n",
    "### Implement Gradient Boosting Classifier and Grid Seach\n",
    "- Use favorite implementation\n",
    "- Boosting Algorithms: [link](https://towardsdatascience.com/https-medium-com-talperetz24-mastering-the-new-generation-of-gradient-boosting-db04062a7ea2)"
   ]
  },
  {
   "cell_type": "code",
   "execution_count": 59,
   "metadata": {},
   "outputs": [],
   "source": [
<<<<<<< HEAD
    "from sklearn.ensemble import GradientBoostingClassifier\n",
    "\n",
    "clf = GradientBoostingClassifier(n_estimators=100, learning_rate=.1,\n",
    "                                 max_depth=1, random_state=0).fit(X_train, y_train)"
   ]
  },
  {
   "cell_type": "code",
   "execution_count": 60,
   "metadata": {},
   "outputs": [],
   "source": [
    "y_pred = clf.predict(X_test)"
=======
    "#conda install py-xgboost"
>>>>>>> b671cbfaabd00957eede4795c9e1678d4d0de30f
   ]
  },
  {
   "cell_type": "code",
<<<<<<< HEAD
   "execution_count": 61,
   "metadata": {},
   "outputs": [
    {
     "name": "stdout",
     "output_type": "stream",
     "text": [
      "Accuracy: 0.9532163742690059\n"
     ]
    }
   ],
   "source": [
    "print(\"Accuracy:\",metrics.accuracy_score(y_test, y_pred))"
=======
   "execution_count": null,
   "metadata": {},
   "outputs": [],
   "source": [
    "import xgboost as xgb"
>>>>>>> b671cbfaabd00957eede4795c9e1678d4d0de30f
   ]
  },
  {
   "cell_type": "code",
<<<<<<< HEAD
   "execution_count": 62,
   "metadata": {},
   "outputs": [
    {
     "data": {
      "text/plain": [
       "0.9428571428571428"
      ]
     },
     "execution_count": 62,
     "metadata": {},
     "output_type": "execute_result"
    }
   ],
   "source": [
    "f1_score(y_test, y_pred)"
=======
   "execution_count": null,
   "metadata": {},
   "outputs": [],
   "source": [
    "xgb_clf = xgb.XGBClassifier()\n",
    "xgb_clf.fit(X_train, y_train)"
   ]
  },
  {
   "cell_type": "markdown",
   "metadata": {},
   "source": [
    "Parameters XGBOOST: [link](https://xgboost.readthedocs.io/en/latest/parameter.html)\n",
    "\n"
>>>>>>> b671cbfaabd00957eede4795c9e1678d4d0de30f
   ]
  },
  {
   "cell_type": "code",
<<<<<<< HEAD
   "execution_count": 82,
   "metadata": {},
   "outputs": [],
   "source": [
    "param_grid = [{'n_estimators': [1000, 1500, 2000], 'max_features': [1,2, 3],  'max_leaf_nodes':[2,3,4,5], 'learning_rate':[.1, .2, .3, .4]}]\n",
    "\n",
    "grid_search = GridSearchCV(clf, param_grid, cv=5,scoring='f1',return_train_score=True)\n",
    "\n"
=======
   "execution_count": null,
   "metadata": {},
   "outputs": [],
   "source": [
    "param_grid = {\"learning_rate\": [0.1,0.01,.5],'max_depth': [1,5,10,20],'min_child_weight': [10],'subsample': [ 0.5],'n_estimators': [5, 30, 100, 250,1000],}"
>>>>>>> b671cbfaabd00957eede4795c9e1678d4d0de30f
   ]
  },
  {
   "cell_type": "code",
<<<<<<< HEAD
   "execution_count": 83,
   "metadata": {},
   "outputs": [
    {
     "data": {
      "text/plain": [
       "GridSearchCV(cv=5, error_score='raise-deprecating',\n",
       "             estimator=GradientBoostingClassifier(criterion='friedman_mse',\n",
       "                                                  init=None, learning_rate=0.1,\n",
       "                                                  loss='deviance', max_depth=1,\n",
       "                                                  max_features=None,\n",
       "                                                  max_leaf_nodes=None,\n",
       "                                                  min_impurity_decrease=0.0,\n",
       "                                                  min_impurity_split=None,\n",
       "                                                  min_samples_leaf=1,\n",
       "                                                  min_samples_split=2,\n",
       "                                                  min_weight_fraction_leaf=0.0,\n",
       "                                                  n_estimators=100,\n",
       "                                                  n_iter_no...e=None,\n",
       "                                                  presort='auto',\n",
       "                                                  random_state=0, subsample=1.0,\n",
       "                                                  tol=0.0001,\n",
       "                                                  validation_fraction=0.1,\n",
       "                                                  verbose=0, warm_start=False),\n",
       "             iid='warn', n_jobs=None,\n",
       "             param_grid=[{'learning_rate': [0.1, 0.2, 0.3, 0.4],\n",
       "                          'max_features': [1, 2, 3],\n",
       "                          'max_leaf_nodes': [2, 3, 4, 5],\n",
       "                          'n_estimators': [1000, 1500, 2000]}],\n",
       "             pre_dispatch='2*n_jobs', refit=True, return_train_score=True,\n",
       "             scoring='f1', verbose=0)"
      ]
     },
     "execution_count": 83,
     "metadata": {},
     "output_type": "execute_result"
    }
   ],
   "source": [
=======
   "execution_count": null,
   "metadata": {},
   "outputs": [],
   "source": [
    "from sklearn.model_selection import GridSearchCV\n",
    "xgb_clf= xgb.XGBClassifier()\n",
    "grid_search = GridSearchCV(xgb_clf, param_grid, cv=5,scoring='f1',return_train_score=True)\n",
    "\n",
    "#fit model with parameters from grid search\n",
>>>>>>> b671cbfaabd00957eede4795c9e1678d4d0de30f
    "grid_search.fit(X_train, y_train)"
   ]
  },
  {
   "cell_type": "code",
<<<<<<< HEAD
   "execution_count": 84,
   "metadata": {},
   "outputs": [
    {
     "data": {
      "text/plain": [
       "{'learning_rate': 0.1,\n",
       " 'max_features': 1,\n",
       " 'max_leaf_nodes': 2,\n",
       " 'n_estimators': 1000}"
      ]
     },
     "execution_count": 84,
     "metadata": {},
     "output_type": "execute_result"
    }
   ],
   "source": [
    "grid_search.best_params_"
=======
   "execution_count": null,
   "metadata": {},
   "outputs": [],
   "source": [
    "y_pred = grid_search.predict(X_test)\n",
    "print(\"Accuracy:\",metrics.accuracy_score(y_test, y_pred))"
>>>>>>> b671cbfaabd00957eede4795c9e1678d4d0de30f
   ]
  },
  {
   "cell_type": "code",
<<<<<<< HEAD
   "execution_count": 85,
   "metadata": {},
   "outputs": [],
   "source": [
    "y_pred = grid_search.predict(X_test)"
=======
   "execution_count": null,
   "metadata": {},
   "outputs": [],
   "source": [
    "print(\"f1 Score:\",f1_score(y_test, y_pred))"
>>>>>>> b671cbfaabd00957eede4795c9e1678d4d0de30f
   ]
  },
  {
   "cell_type": "code",
<<<<<<< HEAD
   "execution_count": 86,
   "metadata": {},
   "outputs": [
    {
     "name": "stdout",
     "output_type": "stream",
     "text": [
      "Accuracy: 0.9298245614035088\n"
     ]
    }
   ],
   "source": [
    "print(\"Accuracy:\",metrics.accuracy_score(y_test, y_pred))"
=======
   "execution_count": null,
   "metadata": {},
   "outputs": [],
   "source": [
    "!pip install catboost\n",
    "# !pip install ipywidgets\n",
    "# !jupyter nbextension enable --py widgetsnbextension"
>>>>>>> b671cbfaabd00957eede4795c9e1678d4d0de30f
   ]
  },
  {
   "cell_type": "code",
   "execution_count": 87,
   "metadata": {},
   "outputs": [
    {
     "data": {
      "text/plain": [
       "0.9117647058823529"
      ]
     },
     "execution_count": 87,
     "metadata": {},
     "output_type": "execute_result"
    }
   ],
   "source": [
    "f1_score(y_test, y_pred)"
   ]
  },
  {
   "cell_type": "markdown",
   "metadata": {},
   "source": [
    "# "
   ]
  }
 ],
 "metadata": {
  "kernelspec": {
   "display_name": "Python 3",
   "language": "python",
   "name": "python3"
  },
  "language_info": {
   "codemirror_mode": {
    "name": "ipython",
    "version": 3
   },
   "file_extension": ".py",
   "mimetype": "text/x-python",
   "name": "python",
   "nbconvert_exporter": "python",
   "pygments_lexer": "ipython3",
   "version": "3.7.3"
  }
 },
 "nbformat": 4,
 "nbformat_minor": 2
}
