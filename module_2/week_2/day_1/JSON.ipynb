{
 "cells": [
  {
   "cell_type": "markdown",
   "metadata": {},
   "source": [
    "# Introduction to JSON "
   ]
  },
  {
   "cell_type": "markdown",
   "metadata": {},
   "source": [
    "# Using APIs and JSON Data"
   ]
  },
  {
   "cell_type": "markdown",
   "metadata": {},
   "source": [
    "## Objectives\n",
    "You will be able to:\n",
    "* Access and manipulate data inside a JSON file\n",
    "* Pull data from an API"
   ]
  },
  {
   "cell_type": "markdown",
   "metadata": {},
   "source": [
    "## Agenda\n",
    "\n",
    "* Review JSON Schemas\n",
    "* Introduce APIs.\n",
    "* Walk through how to make an API request. \n",
    "* Practice making API requests and Parsing the data.\n"
   ]
  },
  {
   "cell_type": "markdown",
   "metadata": {},
   "source": [
    "### What is the difference between a JSON and a python dictionary?"
   ]
  },
  {
   "cell_type": "markdown",
   "metadata": {},
   "source": [
    "https://realpython.com/python-json/"
   ]
  },
  {
   "cell_type": "markdown",
   "metadata": {},
   "source": [
    "## Starting Off\n",
    "\n",
    "Run the cell of code below which imports a json file and then loads it into python. Investigate the resulting `data` variable and learn all you can abou the object. \n"
   ]
  },
  {
   "cell_type": "code",
   "execution_count": 1,
   "metadata": {},
   "outputs": [],
   "source": [
    "import json\n",
    "f = open('output.json')\n",
    "data = json.load(f)"
   ]
  },
  {
   "cell_type": "code",
   "execution_count": 2,
   "metadata": {},
   "outputs": [
    {
     "data": {
      "text/plain": [
       "dict"
      ]
     },
     "execution_count": 2,
     "metadata": {},
     "output_type": "execute_result"
    }
   ],
   "source": [
    "type(data)"
   ]
  },
  {
   "cell_type": "code",
   "execution_count": 3,
   "metadata": {
    "scrolled": true
   },
   "outputs": [
    {
     "data": {
      "text/plain": [
       "dict_keys(['albums'])"
      ]
     },
     "execution_count": 3,
     "metadata": {},
     "output_type": "execute_result"
    }
   ],
   "source": [
    "data.keys()"
   ]
  },
  {
   "cell_type": "code",
   "execution_count": 4,
   "metadata": {},
   "outputs": [
    {
     "data": {
      "text/plain": [
       "dict_keys(['href', 'items', 'limit', 'next', 'offset', 'previous', 'total'])"
      ]
     },
     "execution_count": 4,
     "metadata": {},
     "output_type": "execute_result"
    }
   ],
   "source": [
    "data['albums'].keys()"
   ]
  },
  {
   "cell_type": "code",
   "execution_count": 5,
   "metadata": {},
   "outputs": [
    {
     "data": {
      "text/plain": [
       "[{'album_type': 'single',\n",
       "  'artists': [{'external_urls': {'spotify': 'https://open.spotify.com/artist/2RdwBSPQiwcmiDo9kixcl8'},\n",
       "    'href': 'https://api.spotify.com/v1/artists/2RdwBSPQiwcmiDo9kixcl8',\n",
       "    'id': '2RdwBSPQiwcmiDo9kixcl8',\n",
       "    'name': 'Pharrell Williams',\n",
       "    'type': 'artist',\n",
       "    'uri': 'spotify:artist:2RdwBSPQiwcmiDo9kixcl8'}],\n",
       "  'available_markets': ['AD',\n",
       "   'AR',\n",
       "   'AT',\n",
       "   'AU',\n",
       "   'BE',\n",
       "   'BG',\n",
       "   'BO',\n",
       "   'BR',\n",
       "   'CA',\n",
       "   'CH',\n",
       "   'CL',\n",
       "   'CO',\n",
       "   'CR',\n",
       "   'CY',\n",
       "   'CZ',\n",
       "   'DE',\n",
       "   'DK',\n",
       "   'DO',\n",
       "   'EC',\n",
       "   'EE',\n",
       "   'ES',\n",
       "   'FI',\n",
       "   'FR',\n",
       "   'GB',\n",
       "   'GR',\n",
       "   'GT',\n",
       "   'HK',\n",
       "   'HN',\n",
       "   'HU',\n",
       "   'ID',\n",
       "   'IE',\n",
       "   'IS',\n",
       "   'IT',\n",
       "   'JP',\n",
       "   'LI',\n",
       "   'LT',\n",
       "   'LU',\n",
       "   'LV',\n",
       "   'MC',\n",
       "   'MT',\n",
       "   'MX',\n",
       "   'MY',\n",
       "   'NI',\n",
       "   'NL',\n",
       "   'NO',\n",
       "   'NZ',\n",
       "   'PA',\n",
       "   'PE',\n",
       "   'PH',\n",
       "   'PL',\n",
       "   'PT',\n",
       "   'PY',\n",
       "   'SE',\n",
       "   'SG',\n",
       "   'SK',\n",
       "   'SV',\n",
       "   'TR',\n",
       "   'TW',\n",
       "   'US',\n",
       "   'UY'],\n",
       "  'external_urls': {'spotify': 'https://open.spotify.com/album/5ZX4m5aVSmWQ5iHAPQpT71'},\n",
       "  'href': 'https://api.spotify.com/v1/albums/5ZX4m5aVSmWQ5iHAPQpT71',\n",
       "  'id': '5ZX4m5aVSmWQ5iHAPQpT71',\n",
       "  'images': [{'height': 640,\n",
       "    'url': 'https://i.scdn.co/image/e6b635ebe3ef4ba22492f5698a7b5d417f78b88a',\n",
       "    'width': 640},\n",
       "   {'height': 300,\n",
       "    'url': 'https://i.scdn.co/image/92ae5b0fe64870c09004dd2e745a4fb1bf7de39d',\n",
       "    'width': 300},\n",
       "   {'height': 64,\n",
       "    'url': 'https://i.scdn.co/image/8a7ab6fc2c9f678308ba0f694ecd5718dc6bc930',\n",
       "    'width': 64}],\n",
       "  'name': \"Runnin'\",\n",
       "  'type': 'album',\n",
       "  'uri': 'spotify:album:5ZX4m5aVSmWQ5iHAPQpT71'},\n",
       " {'album_type': 'single',\n",
       "  'artists': [{'external_urls': {'spotify': 'https://open.spotify.com/artist/3TVXtAsR1Inumwj472S9r4'},\n",
       "    'href': 'https://api.spotify.com/v1/artists/3TVXtAsR1Inumwj472S9r4',\n",
       "    'id': '3TVXtAsR1Inumwj472S9r4',\n",
       "    'name': 'Drake',\n",
       "    'type': 'artist',\n",
       "    'uri': 'spotify:artist:3TVXtAsR1Inumwj472S9r4'}],\n",
       "  'available_markets': ['AD',\n",
       "   'AR',\n",
       "   'AT',\n",
       "   'AU',\n",
       "   'BE',\n",
       "   'BG',\n",
       "   'BO',\n",
       "   'BR',\n",
       "   'CH',\n",
       "   'CL',\n",
       "   'CO',\n",
       "   'CR',\n",
       "   'CY',\n",
       "   'CZ',\n",
       "   'DE',\n",
       "   'DK',\n",
       "   'DO',\n",
       "   'EC',\n",
       "   'EE',\n",
       "   'ES',\n",
       "   'FI',\n",
       "   'FR',\n",
       "   'GB',\n",
       "   'GR',\n",
       "   'GT',\n",
       "   'HK',\n",
       "   'HN',\n",
       "   'HU',\n",
       "   'ID',\n",
       "   'IE',\n",
       "   'IS',\n",
       "   'IT',\n",
       "   'JP',\n",
       "   'LI',\n",
       "   'LT',\n",
       "   'LU',\n",
       "   'LV',\n",
       "   'MC',\n",
       "   'MT',\n",
       "   'MY',\n",
       "   'NI',\n",
       "   'NL',\n",
       "   'NO',\n",
       "   'NZ',\n",
       "   'PA',\n",
       "   'PE',\n",
       "   'PH',\n",
       "   'PL',\n",
       "   'PT',\n",
       "   'PY',\n",
       "   'SE',\n",
       "   'SG',\n",
       "   'SK',\n",
       "   'SV',\n",
       "   'TR',\n",
       "   'TW',\n",
       "   'UY'],\n",
       "  'external_urls': {'spotify': 'https://open.spotify.com/album/0geTzdk2InlqIoB16fW9Nd'},\n",
       "  'href': 'https://api.spotify.com/v1/albums/0geTzdk2InlqIoB16fW9Nd',\n",
       "  'id': '0geTzdk2InlqIoB16fW9Nd',\n",
       "  'images': [{'height': 640,\n",
       "    'url': 'https://i.scdn.co/image/d40e9c3d22bde2fbdb2ecc03cccd7a0e77f42e4c',\n",
       "    'width': 640},\n",
       "   {'height': 300,\n",
       "    'url': 'https://i.scdn.co/image/dff06a3375f6d9b32ecb081eb9a60bbafecb5731',\n",
       "    'width': 300},\n",
       "   {'height': 64,\n",
       "    'url': 'https://i.scdn.co/image/808a02bd7fc59b0652c9df9f68675edbffe07a79',\n",
       "    'width': 64}],\n",
       "  'name': 'Sneakin’',\n",
       "  'type': 'album',\n",
       "  'uri': 'spotify:album:0geTzdk2InlqIoB16fW9Nd'}]"
      ]
     },
     "execution_count": 5,
     "metadata": {},
     "output_type": "execute_result"
    }
   ],
   "source": [
    "data['albums']['items']"
   ]
  },
  {
   "cell_type": "code",
   "execution_count": 6,
   "metadata": {},
   "outputs": [
    {
     "data": {
      "text/plain": [
       "{'a': 1, 'b': 2}"
      ]
     },
     "execution_count": 6,
     "metadata": {},
     "output_type": "execute_result"
    }
   ],
   "source": [
    "new_dict = {'a': 1, 'b':2, }\n",
    "new_dict"
   ]
  },
  {
   "cell_type": "code",
   "execution_count": 7,
   "metadata": {},
   "outputs": [
    {
     "data": {
      "text/plain": [
       "'{\"a\": 1, \"b\": 2}'"
      ]
     },
     "execution_count": 7,
     "metadata": {},
     "output_type": "execute_result"
    }
   ],
   "source": [
    "json.dumps(new_dict)"
   ]
  },
  {
   "cell_type": "markdown",
   "metadata": {},
   "source": [
    "## Loading the JSON file\n",
    "\n",
    "As before, we begin by importing the json package, opening a file with python's built in function, and then loading that data in."
   ]
  },
  {
   "cell_type": "code",
   "execution_count": 8,
   "metadata": {},
   "outputs": [],
   "source": [
    "import json\n",
    "f = open('output.json')\n",
    "data = json.load(f)"
   ]
  },
  {
   "cell_type": "code",
   "execution_count": 9,
   "metadata": {},
   "outputs": [
    {
     "data": {
      "text/plain": [
       "'{\"a\": null}'"
      ]
     },
     "execution_count": 9,
     "metadata": {},
     "output_type": "execute_result"
    }
   ],
   "source": [
    "json.dumps({'a': None})"
   ]
  },
  {
   "cell_type": "markdown",
   "metadata": {},
   "source": [
    "## Exploring JSON Schemas  \n",
    "\n",
    "Recall that JSON files have a nested structure. The most granular level of raw data will be individual numbers (float/int) and strings. These in turn will be stored in the equivalent of python lists and dictionaries. Because these can be combined, we'll start exploring by checking the type of our root object, and start mapping out the hierarchy of the json file."
   ]
  },
  {
   "cell_type": "code",
   "execution_count": 10,
   "metadata": {},
   "outputs": [
    {
     "data": {
      "text/plain": [
       "dict"
      ]
     },
     "execution_count": 10,
     "metadata": {},
     "output_type": "execute_result"
    }
   ],
   "source": [
    "type(data)"
   ]
  },
  {
   "cell_type": "code",
   "execution_count": 11,
   "metadata": {},
   "outputs": [
    {
     "data": {
      "text/plain": [
       "{'albums': {'href': 'https://api.spotify.com/v1/browse/new-releases?country=SE&offset=0&limit=20',\n",
       "  'items': [{'album_type': 'single',\n",
       "    'artists': [{'external_urls': {'spotify': 'https://open.spotify.com/artist/2RdwBSPQiwcmiDo9kixcl8'},\n",
       "      'href': 'https://api.spotify.com/v1/artists/2RdwBSPQiwcmiDo9kixcl8',\n",
       "      'id': '2RdwBSPQiwcmiDo9kixcl8',\n",
       "      'name': 'Pharrell Williams',\n",
       "      'type': 'artist',\n",
       "      'uri': 'spotify:artist:2RdwBSPQiwcmiDo9kixcl8'}],\n",
       "    'available_markets': ['AD',\n",
       "     'AR',\n",
       "     'AT',\n",
       "     'AU',\n",
       "     'BE',\n",
       "     'BG',\n",
       "     'BO',\n",
       "     'BR',\n",
       "     'CA',\n",
       "     'CH',\n",
       "     'CL',\n",
       "     'CO',\n",
       "     'CR',\n",
       "     'CY',\n",
       "     'CZ',\n",
       "     'DE',\n",
       "     'DK',\n",
       "     'DO',\n",
       "     'EC',\n",
       "     'EE',\n",
       "     'ES',\n",
       "     'FI',\n",
       "     'FR',\n",
       "     'GB',\n",
       "     'GR',\n",
       "     'GT',\n",
       "     'HK',\n",
       "     'HN',\n",
       "     'HU',\n",
       "     'ID',\n",
       "     'IE',\n",
       "     'IS',\n",
       "     'IT',\n",
       "     'JP',\n",
       "     'LI',\n",
       "     'LT',\n",
       "     'LU',\n",
       "     'LV',\n",
       "     'MC',\n",
       "     'MT',\n",
       "     'MX',\n",
       "     'MY',\n",
       "     'NI',\n",
       "     'NL',\n",
       "     'NO',\n",
       "     'NZ',\n",
       "     'PA',\n",
       "     'PE',\n",
       "     'PH',\n",
       "     'PL',\n",
       "     'PT',\n",
       "     'PY',\n",
       "     'SE',\n",
       "     'SG',\n",
       "     'SK',\n",
       "     'SV',\n",
       "     'TR',\n",
       "     'TW',\n",
       "     'US',\n",
       "     'UY'],\n",
       "    'external_urls': {'spotify': 'https://open.spotify.com/album/5ZX4m5aVSmWQ5iHAPQpT71'},\n",
       "    'href': 'https://api.spotify.com/v1/albums/5ZX4m5aVSmWQ5iHAPQpT71',\n",
       "    'id': '5ZX4m5aVSmWQ5iHAPQpT71',\n",
       "    'images': [{'height': 640,\n",
       "      'url': 'https://i.scdn.co/image/e6b635ebe3ef4ba22492f5698a7b5d417f78b88a',\n",
       "      'width': 640},\n",
       "     {'height': 300,\n",
       "      'url': 'https://i.scdn.co/image/92ae5b0fe64870c09004dd2e745a4fb1bf7de39d',\n",
       "      'width': 300},\n",
       "     {'height': 64,\n",
       "      'url': 'https://i.scdn.co/image/8a7ab6fc2c9f678308ba0f694ecd5718dc6bc930',\n",
       "      'width': 64}],\n",
       "    'name': \"Runnin'\",\n",
       "    'type': 'album',\n",
       "    'uri': 'spotify:album:5ZX4m5aVSmWQ5iHAPQpT71'},\n",
       "   {'album_type': 'single',\n",
       "    'artists': [{'external_urls': {'spotify': 'https://open.spotify.com/artist/3TVXtAsR1Inumwj472S9r4'},\n",
       "      'href': 'https://api.spotify.com/v1/artists/3TVXtAsR1Inumwj472S9r4',\n",
       "      'id': '3TVXtAsR1Inumwj472S9r4',\n",
       "      'name': 'Drake',\n",
       "      'type': 'artist',\n",
       "      'uri': 'spotify:artist:3TVXtAsR1Inumwj472S9r4'}],\n",
       "    'available_markets': ['AD',\n",
       "     'AR',\n",
       "     'AT',\n",
       "     'AU',\n",
       "     'BE',\n",
       "     'BG',\n",
       "     'BO',\n",
       "     'BR',\n",
       "     'CH',\n",
       "     'CL',\n",
       "     'CO',\n",
       "     'CR',\n",
       "     'CY',\n",
       "     'CZ',\n",
       "     'DE',\n",
       "     'DK',\n",
       "     'DO',\n",
       "     'EC',\n",
       "     'EE',\n",
       "     'ES',\n",
       "     'FI',\n",
       "     'FR',\n",
       "     'GB',\n",
       "     'GR',\n",
       "     'GT',\n",
       "     'HK',\n",
       "     'HN',\n",
       "     'HU',\n",
       "     'ID',\n",
       "     'IE',\n",
       "     'IS',\n",
       "     'IT',\n",
       "     'JP',\n",
       "     'LI',\n",
       "     'LT',\n",
       "     'LU',\n",
       "     'LV',\n",
       "     'MC',\n",
       "     'MT',\n",
       "     'MY',\n",
       "     'NI',\n",
       "     'NL',\n",
       "     'NO',\n",
       "     'NZ',\n",
       "     'PA',\n",
       "     'PE',\n",
       "     'PH',\n",
       "     'PL',\n",
       "     'PT',\n",
       "     'PY',\n",
       "     'SE',\n",
       "     'SG',\n",
       "     'SK',\n",
       "     'SV',\n",
       "     'TR',\n",
       "     'TW',\n",
       "     'UY'],\n",
       "    'external_urls': {'spotify': 'https://open.spotify.com/album/0geTzdk2InlqIoB16fW9Nd'},\n",
       "    'href': 'https://api.spotify.com/v1/albums/0geTzdk2InlqIoB16fW9Nd',\n",
       "    'id': '0geTzdk2InlqIoB16fW9Nd',\n",
       "    'images': [{'height': 640,\n",
       "      'url': 'https://i.scdn.co/image/d40e9c3d22bde2fbdb2ecc03cccd7a0e77f42e4c',\n",
       "      'width': 640},\n",
       "     {'height': 300,\n",
       "      'url': 'https://i.scdn.co/image/dff06a3375f6d9b32ecb081eb9a60bbafecb5731',\n",
       "      'width': 300},\n",
       "     {'height': 64,\n",
       "      'url': 'https://i.scdn.co/image/808a02bd7fc59b0652c9df9f68675edbffe07a79',\n",
       "      'width': 64}],\n",
       "    'name': 'Sneakin’',\n",
       "    'type': 'album',\n",
       "    'uri': 'spotify:album:0geTzdk2InlqIoB16fW9Nd'}],\n",
       "  'limit': 20,\n",
       "  'next': 'https://api.spotify.com/v1/browse/new-releases?country=SE&offset=20&limit=20',\n",
       "  'offset': 0,\n",
       "  'previous': None,\n",
       "  'total': 500}}"
      ]
     },
     "execution_count": 11,
     "metadata": {},
     "output_type": "execute_result"
    }
   ],
   "source": [
    "data"
   ]
  },
  {
   "cell_type": "markdown",
   "metadata": {},
   "source": [
    "As you can see, in this case, the first level of the hierarchy is a dictionary. Let's explore what keys are within this:"
   ]
  },
  {
   "cell_type": "code",
   "execution_count": 92,
   "metadata": {},
   "outputs": [
    {
     "data": {
      "text/plain": [
       "dict_keys(['albums'])"
      ]
     },
     "execution_count": 92,
     "metadata": {},
     "output_type": "execute_result"
    }
   ],
   "source": [
    "data.keys()"
   ]
  },
  {
   "cell_type": "markdown",
   "metadata": {},
   "source": [
    "In this case, there is only a single key, 'albums', so we'll continue on down the pathway exploring and mapping out the hierarchy. Once again, let's start by checking the type of this nested data structure."
   ]
  },
  {
   "cell_type": "code",
   "execution_count": 14,
   "metadata": {},
   "outputs": [
    {
     "data": {
      "text/plain": [
       "dict"
      ]
     },
     "execution_count": 14,
     "metadata": {},
     "output_type": "execute_result"
    }
   ],
   "source": [
    "type(data['albums'])"
   ]
  },
  {
   "cell_type": "markdown",
   "metadata": {},
   "source": [
    "Another dictionary! So thus far, we have a dictionary within a dictionary. Once again, let's investigate what's within this dictionary (JSON calls the equivalent of Python dictionaries Objects.)"
   ]
  },
  {
   "cell_type": "code",
   "execution_count": 15,
   "metadata": {},
   "outputs": [
    {
     "data": {
      "text/plain": [
       "dict_keys(['href', 'items', 'limit', 'next', 'offset', 'previous', 'total'])"
      ]
     },
     "execution_count": 15,
     "metadata": {},
     "output_type": "execute_result"
    }
   ],
   "source": [
    "data['albums'].keys()"
   ]
  },
  {
   "cell_type": "markdown",
   "metadata": {},
   "source": [
    "At this point, things are starting to look something like this: \n",
    "<img src=\"json_diagram1.JPG\" width=550>"
   ]
  },
  {
   "cell_type": "markdown",
   "metadata": {},
   "source": [
    "At this point, if we were to continue checking individual data types, we have a lot to go through. To simplify this, let's use a for loop:"
   ]
  },
  {
   "cell_type": "code",
   "execution_count": 16,
   "metadata": {},
   "outputs": [
    {
     "name": "stdout",
     "output_type": "stream",
     "text": [
      "href <class 'str'>\n",
      "items <class 'list'>\n",
      "limit <class 'int'>\n",
      "next <class 'str'>\n",
      "offset <class 'int'>\n",
      "previous <class 'NoneType'>\n",
      "total <class 'int'>\n"
     ]
    }
   ],
   "source": [
    "for key in data['albums'].keys():\n",
    "    print(key, type(data['albums'][key]))"
   ]
  },
  {
   "cell_type": "code",
   "execution_count": 40,
   "metadata": {},
   "outputs": [
    {
     "data": {
      "text/plain": [
       "'{\"1\": 2}'"
      ]
     },
     "execution_count": 40,
     "metadata": {},
     "output_type": "execute_result"
    }
   ],
   "source": [
    "json.dumps({1: 2})"
   ]
  },
  {
   "cell_type": "code",
   "execution_count": 94,
   "metadata": {},
   "outputs": [
    {
     "ename": "JSONDecodeError",
     "evalue": "Expecting property name enclosed in double quotes: line 1 column 9 (char 8)",
     "output_type": "error",
     "traceback": [
      "\u001b[0;31m---------------------------------------------------------------------------\u001b[0m",
      "\u001b[0;31mJSONDecodeError\u001b[0m                           Traceback (most recent call last)",
      "\u001b[0;32m<ipython-input-94-c4766c9fadf4>\u001b[0m in \u001b[0;36m<module>\u001b[0;34m\u001b[0m\n\u001b[0;32m----> 1\u001b[0;31m \u001b[0mjson\u001b[0m\u001b[0;34m.\u001b[0m\u001b[0mloads\u001b[0m\u001b[0;34m(\u001b[0m\u001b[0;34m'{\"a\":1, 1: 2}'\u001b[0m\u001b[0;34m)\u001b[0m\u001b[0;34m\u001b[0m\u001b[0;34m\u001b[0m\u001b[0m\n\u001b[0m",
      "\u001b[0;32m/anaconda3/lib/python3.7/json/__init__.py\u001b[0m in \u001b[0;36mloads\u001b[0;34m(s, encoding, cls, object_hook, parse_float, parse_int, parse_constant, object_pairs_hook, **kw)\u001b[0m\n\u001b[1;32m    346\u001b[0m             \u001b[0mparse_int\u001b[0m \u001b[0;32mis\u001b[0m \u001b[0;32mNone\u001b[0m \u001b[0;32mand\u001b[0m \u001b[0mparse_float\u001b[0m \u001b[0;32mis\u001b[0m \u001b[0;32mNone\u001b[0m \u001b[0;32mand\u001b[0m\u001b[0;34m\u001b[0m\u001b[0;34m\u001b[0m\u001b[0m\n\u001b[1;32m    347\u001b[0m             parse_constant is None and object_pairs_hook is None and not kw):\n\u001b[0;32m--> 348\u001b[0;31m         \u001b[0;32mreturn\u001b[0m \u001b[0m_default_decoder\u001b[0m\u001b[0;34m.\u001b[0m\u001b[0mdecode\u001b[0m\u001b[0;34m(\u001b[0m\u001b[0ms\u001b[0m\u001b[0;34m)\u001b[0m\u001b[0;34m\u001b[0m\u001b[0;34m\u001b[0m\u001b[0m\n\u001b[0m\u001b[1;32m    349\u001b[0m     \u001b[0;32mif\u001b[0m \u001b[0mcls\u001b[0m \u001b[0;32mis\u001b[0m \u001b[0;32mNone\u001b[0m\u001b[0;34m:\u001b[0m\u001b[0;34m\u001b[0m\u001b[0;34m\u001b[0m\u001b[0m\n\u001b[1;32m    350\u001b[0m         \u001b[0mcls\u001b[0m \u001b[0;34m=\u001b[0m \u001b[0mJSONDecoder\u001b[0m\u001b[0;34m\u001b[0m\u001b[0;34m\u001b[0m\u001b[0m\n",
      "\u001b[0;32m/anaconda3/lib/python3.7/json/decoder.py\u001b[0m in \u001b[0;36mdecode\u001b[0;34m(self, s, _w)\u001b[0m\n\u001b[1;32m    335\u001b[0m \u001b[0;34m\u001b[0m\u001b[0m\n\u001b[1;32m    336\u001b[0m         \"\"\"\n\u001b[0;32m--> 337\u001b[0;31m         \u001b[0mobj\u001b[0m\u001b[0;34m,\u001b[0m \u001b[0mend\u001b[0m \u001b[0;34m=\u001b[0m \u001b[0mself\u001b[0m\u001b[0;34m.\u001b[0m\u001b[0mraw_decode\u001b[0m\u001b[0;34m(\u001b[0m\u001b[0ms\u001b[0m\u001b[0;34m,\u001b[0m \u001b[0midx\u001b[0m\u001b[0;34m=\u001b[0m\u001b[0m_w\u001b[0m\u001b[0;34m(\u001b[0m\u001b[0ms\u001b[0m\u001b[0;34m,\u001b[0m \u001b[0;36m0\u001b[0m\u001b[0;34m)\u001b[0m\u001b[0;34m.\u001b[0m\u001b[0mend\u001b[0m\u001b[0;34m(\u001b[0m\u001b[0;34m)\u001b[0m\u001b[0;34m)\u001b[0m\u001b[0;34m\u001b[0m\u001b[0;34m\u001b[0m\u001b[0m\n\u001b[0m\u001b[1;32m    338\u001b[0m         \u001b[0mend\u001b[0m \u001b[0;34m=\u001b[0m \u001b[0m_w\u001b[0m\u001b[0;34m(\u001b[0m\u001b[0ms\u001b[0m\u001b[0;34m,\u001b[0m \u001b[0mend\u001b[0m\u001b[0;34m)\u001b[0m\u001b[0;34m.\u001b[0m\u001b[0mend\u001b[0m\u001b[0;34m(\u001b[0m\u001b[0;34m)\u001b[0m\u001b[0;34m\u001b[0m\u001b[0;34m\u001b[0m\u001b[0m\n\u001b[1;32m    339\u001b[0m         \u001b[0;32mif\u001b[0m \u001b[0mend\u001b[0m \u001b[0;34m!=\u001b[0m \u001b[0mlen\u001b[0m\u001b[0;34m(\u001b[0m\u001b[0ms\u001b[0m\u001b[0;34m)\u001b[0m\u001b[0;34m:\u001b[0m\u001b[0;34m\u001b[0m\u001b[0;34m\u001b[0m\u001b[0m\n",
      "\u001b[0;32m/anaconda3/lib/python3.7/json/decoder.py\u001b[0m in \u001b[0;36mraw_decode\u001b[0;34m(self, s, idx)\u001b[0m\n\u001b[1;32m    351\u001b[0m         \"\"\"\n\u001b[1;32m    352\u001b[0m         \u001b[0;32mtry\u001b[0m\u001b[0;34m:\u001b[0m\u001b[0;34m\u001b[0m\u001b[0;34m\u001b[0m\u001b[0m\n\u001b[0;32m--> 353\u001b[0;31m             \u001b[0mobj\u001b[0m\u001b[0;34m,\u001b[0m \u001b[0mend\u001b[0m \u001b[0;34m=\u001b[0m \u001b[0mself\u001b[0m\u001b[0;34m.\u001b[0m\u001b[0mscan_once\u001b[0m\u001b[0;34m(\u001b[0m\u001b[0ms\u001b[0m\u001b[0;34m,\u001b[0m \u001b[0midx\u001b[0m\u001b[0;34m)\u001b[0m\u001b[0;34m\u001b[0m\u001b[0;34m\u001b[0m\u001b[0m\n\u001b[0m\u001b[1;32m    354\u001b[0m         \u001b[0;32mexcept\u001b[0m \u001b[0mStopIteration\u001b[0m \u001b[0;32mas\u001b[0m \u001b[0merr\u001b[0m\u001b[0;34m:\u001b[0m\u001b[0;34m\u001b[0m\u001b[0;34m\u001b[0m\u001b[0m\n\u001b[1;32m    355\u001b[0m             \u001b[0;32mraise\u001b[0m \u001b[0mJSONDecodeError\u001b[0m\u001b[0;34m(\u001b[0m\u001b[0;34m\"Expecting value\"\u001b[0m\u001b[0;34m,\u001b[0m \u001b[0ms\u001b[0m\u001b[0;34m,\u001b[0m \u001b[0merr\u001b[0m\u001b[0;34m.\u001b[0m\u001b[0mvalue\u001b[0m\u001b[0;34m)\u001b[0m \u001b[0;32mfrom\u001b[0m \u001b[0;32mNone\u001b[0m\u001b[0;34m\u001b[0m\u001b[0;34m\u001b[0m\u001b[0m\n",
      "\u001b[0;31mJSONDecodeError\u001b[0m: Expecting property name enclosed in double quotes: line 1 column 9 (char 8)"
     ]
    }
   ],
   "source": [
    "json.loads('{\"a\":1, 1: 2}')"
   ]
  },
  {
   "cell_type": "markdown",
   "metadata": {},
   "source": [
    "Adding this to our diagram we now have something like this:\n",
    "<img src=\"json_diagram2.JPG\" width=550>"
   ]
  },
  {
   "cell_type": "markdown",
   "metadata": {},
   "source": [
    "Normally, you may not draw out the full diagram as done here, but its a useful picture to have in mind, and in complex schemas, can be useful to map out. At this point, you also probably have a good idea of the general structure of the json file. However, there is still the list of items, which we could investigate further:"
   ]
  },
  {
   "cell_type": "markdown",
   "metadata": {},
   "source": [
    "## What is an API?"
   ]
  },
  {
   "cell_type": "markdown",
   "metadata": {},
   "source": [
    "**Application Program Interfaces**, or APIs, are commonly used to retrieve data from remote websites. Sites like Reddit, Twitter, and Facebook all offer certain data through their APIs. \n",
    "\n",
    "To use an API, you make a request to a remote web server, and retrieve the data you need."
   ]
  },
  {
   "cell_type": "markdown",
   "metadata": {},
   "source": [
    "Python with two built-in modules, `urllib` and `urllib2` to handle these requests but these could be very confusing  and the documentation is not clear.\n",
    "\n",
    "To make these things simpler, one easy-to-use third-party library, known as` Requests`, is what most developers prefer to use it instead or urllib/urllib2. With this library, you can access content like web page headers, form data, files, and parameters via simple Python commands. It also allows you to access the response data in a simple way."
   ]
  },
  {
   "cell_type": "markdown",
   "metadata": {},
   "source": [
    "![](logo.png)"
   ]
  },
  {
   "cell_type": "markdown",
   "metadata": {},
   "source": [
    "Below is how you would install and import the requests library before making any requests. \n",
    "```python\n",
    "# Uncomment and install requests if you dont have it already\n",
    "# !pip install requests\n",
    "\n",
    "# Import requests to working environment\n",
    "#import requests\n",
    "```"
   ]
  },
  {
   "cell_type": "code",
   "execution_count": 12,
   "metadata": {},
   "outputs": [
    {
     "name": "stdout",
     "output_type": "stream",
     "text": [
      "Requirement already satisfied: requests in /Users/Gary/anaconda3/lib/python3.7/site-packages (2.21.0)\n",
      "Requirement already satisfied: idna<2.9,>=2.5 in /Users/Gary/anaconda3/lib/python3.7/site-packages (from requests) (2.8)\n",
      "Requirement already satisfied: certifi>=2017.4.17 in /Users/Gary/anaconda3/lib/python3.7/site-packages (from requests) (2019.3.9)\n",
      "Requirement already satisfied: urllib3<1.25,>=1.21.1 in /Users/Gary/anaconda3/lib/python3.7/site-packages (from requests) (1.24.1)\n",
      "Requirement already satisfied: chardet<3.1.0,>=3.0.2 in /Users/Gary/anaconda3/lib/python3.7/site-packages (from requests) (3.0.4)\n",
      "Note: you may need to restart the kernel to use updated packages.\n"
     ]
    }
   ],
   "source": [
    "pip install requests"
   ]
  },
  {
   "cell_type": "code",
   "execution_count": 13,
   "metadata": {},
   "outputs": [],
   "source": [
    "import requests"
   ]
  },
  {
   "cell_type": "markdown",
   "metadata": {},
   "source": [
    "\n",
    "## The `.get()` Method\n",
    "\n",
    "Now we have requests library ready in our working environment, we can start making some requests using the `.get()` method as shown below:\n",
    "\n",
    "\n",
    "We can use a simple GET request to retrieve information from the OpenNotify API.\n",
    "\n",
    "\n",
    "\n",
    "\n",
    "OpenNotify has several API endpoints. An endpoint is a server route that is used to retrieve different data from the API. For example, the /comments endpoint on the Reddit API might retrieve information about comments, whereas the /users endpoint might retrieve data about users. To access them, you would add the endpoint to the base url of the API.\n",
    "\n"
   ]
  },
  {
   "cell_type": "code",
   "execution_count": 14,
   "metadata": {},
   "outputs": [
    {
     "name": "stdout",
     "output_type": "stream",
     "text": [
      "200\n"
     ]
    }
   ],
   "source": [
    "# Make a get request to get the latest position of the international space station from the opennotify api.\n",
    "response = requests.get(\"http://api.open-notify.org/iss-now.json\")\n",
    "\n",
    "# When is the ISS overhead?\n",
    "#response = requests.get(\"http://api.open-notify.org/iss-pass.json?lat=41.4984174&lon=-81.6937287\")\n",
    "\n",
    "# Print the status code of the response.\n",
    "print(response.status_code)"
   ]
  },
  {
   "cell_type": "code",
   "execution_count": 15,
   "metadata": {},
   "outputs": [],
   "source": [
    "response_dict = response.json()"
   ]
  },
  {
   "cell_type": "code",
   "execution_count": 16,
   "metadata": {},
   "outputs": [
    {
     "data": {
      "text/plain": [
       "{'iss_position': {'longitude': '71.5838', 'latitude': '22.4829'},\n",
       " 'timestamp': 1563205057,\n",
       " 'message': 'success'}"
      ]
     },
     "execution_count": 16,
     "metadata": {},
     "output_type": "execute_result"
    }
   ],
   "source": [
    "response_dict"
   ]
  },
  {
   "cell_type": "code",
   "execution_count": 17,
   "metadata": {},
   "outputs": [
    {
     "data": {
      "text/plain": [
       "dict_keys(['iss_position', 'timestamp', 'message'])"
      ]
     },
     "execution_count": 17,
     "metadata": {},
     "output_type": "execute_result"
    }
   ],
   "source": [
    "response_dict.keys()"
   ]
  },
  {
   "cell_type": "code",
   "execution_count": 95,
   "metadata": {},
   "outputs": [
    {
     "name": "stdout",
     "output_type": "stream",
     "text": [
      "3\n",
      "{'people': [{'craft': 'ISS', 'name': 'Alexey Ovchinin'}, {'craft': 'ISS', 'name': 'Nick Hague'}, {'craft': 'ISS', 'name': 'Christina Koch'}], 'number': 3, 'message': 'success'}\n"
     ]
    }
   ],
   "source": [
    "# Get the response from the API endpoint.\n",
    "response = requests.get(\"http://api.open-notify.org/astros.json\")\n",
    "data = response.json()\n",
    "# 9 people are currently in space.\n",
    "print(data[\"number\"])\n",
    "print(data)"
   ]
  },
  {
   "cell_type": "markdown",
   "metadata": {},
   "source": [
    "GET is by far the most used HTTP method. We can use GET request to retrieve data from any destination. \n",
    "\n",
    "## Status Codes\n",
    "The request we make may not be always successful. The best way is to check the status code which gets returned with the response. Here is how you would do this. \n"
   ]
  },
  {
   "cell_type": "code",
   "execution_count": 18,
   "metadata": {},
   "outputs": [
    {
     "data": {
      "text/plain": [
       "True"
      ]
     },
     "execution_count": 18,
     "metadata": {},
     "output_type": "execute_result"
    }
   ],
   "source": [
    "response.status_code == requests.codes.ok"
   ]
  },
  {
   "cell_type": "code",
   "execution_count": 19,
   "metadata": {},
   "outputs": [
    {
     "data": {
      "text/plain": [
       "418"
      ]
     },
     "execution_count": 19,
     "metadata": {},
     "output_type": "execute_result"
    }
   ],
   "source": [
    "requests.codes.IM_A_TEAPOT\n"
   ]
  },
  {
   "cell_type": "markdown",
   "metadata": {},
   "source": [
    "So this is a good check to see if our request was successful. Depending on the status of the web server, the access rights of the clients and availibility of requested information. A web server may return a number of status codes within the response. Wikipedia has an exhaustive details on all these codes. [Check them out here](https://en.wikipedia.org/wiki/List_of_HTTP_status_codes)"
   ]
  },
  {
   "cell_type": "markdown",
   "metadata": {},
   "source": [
    "### Common status codes\n",
    "\n",
    "* 200 — everything went okay, and the result has been returned (if any)\n",
    "* 301 — the server is redirecting you to a different endpoint. This can happen when a company switches domain names, or an endpoint name is changed.\n",
    "* 401 — the server thinks you’re not authenticated. This happens when you don’t send the right credentials to access an API (we’ll talk about authentication in a later post).\n",
    "* 400 — the server thinks you made a bad request. This can happen when you don’t send along the right data, among other things.\n",
    "* 403 — the resource you’re trying to access is forbidden — you don’t have the right permissions to see it.\n",
    "* 404 — the resource you tried to access wasn’t found on the server."
   ]
  },
  {
   "cell_type": "code",
   "execution_count": 20,
   "metadata": {},
   "outputs": [
    {
     "name": "stdout",
     "output_type": "stream",
     "text": [
      "404\n"
     ]
    }
   ],
   "source": [
    "response = requests.get(\"http://api.open-notify.org/iss-pass\")\n",
    "print(response.status_code)"
   ]
  },
  {
   "cell_type": "markdown",
   "metadata": {},
   "source": [
    "### Hitting the right endpoint\n",
    "iss-pass wasn’t a valid endpoint, so we got a 404 status code in response. We forgot to add `.json` at the end, as the API documentation states."
   ]
  },
  {
   "cell_type": "markdown",
   "metadata": {},
   "source": [
    "We’ll now make a GET request to http://api.open-notify.org/iss-pass.json."
   ]
  },
  {
   "cell_type": "code",
   "execution_count": 21,
   "metadata": {},
   "outputs": [
    {
     "name": "stdout",
     "output_type": "stream",
     "text": [
      "200\n"
     ]
    }
   ],
   "source": [
    "response = requests.get(\"http://api.open-notify.org/iss-pass.json?lat=41.4984174&lon=-81.6937287\")\n",
    "print(response.status_code)"
   ]
  },
  {
   "cell_type": "markdown",
   "metadata": {},
   "source": [
    "\n",
    "## Response Contents\n",
    "Once we know that our request was successful and we have a valid response, we can check the returned information using `.text` property of the response object. \n",
    "```python\n",
    "print (resp.text)\n",
    "```"
   ]
  },
  {
   "cell_type": "code",
   "execution_count": 22,
   "metadata": {},
   "outputs": [
    {
     "name": "stdout",
     "output_type": "stream",
     "text": [
      "200\n",
      "{\n",
      "  \"message\": \"success\", \n",
      "  \"request\": {\n",
      "    \"altitude\": 100, \n",
      "    \"datetime\": 1563205978, \n",
      "    \"latitude\": 10.0, \n",
      "    \"longitude\": 20.0, \n",
      "    \"passes\": 5\n",
      "  }, \n",
      "  \"response\": [\n",
      "    {\n",
      "      \"duration\": 457, \n",
      "      \"risetime\": 1563209976\n",
      "    }, \n",
      "    {\n",
      "      \"duration\": 634, \n",
      "      \"risetime\": 1563215672\n",
      "    }, \n",
      "    {\n",
      "      \"duration\": 621, \n",
      "      \"risetime\": 1563251349\n",
      "    }, \n",
      "    {\n",
      "      \"duration\": 477, \n",
      "      \"risetime\": 1563257206\n",
      "    }, \n",
      "    {\n",
      "      \"duration\": 155, \n",
      "      \"risetime\": 1563293573\n",
      "    }\n",
      "  ]\n",
      "}\n",
      "\n"
     ]
    }
   ],
   "source": [
    "response = requests.get('http://api.open-notify.org/iss-pass.json?lat=10&lon=20')\n",
    "print(response.status_code)\n",
    "print(response.text)"
   ]
  },
  {
   "cell_type": "code",
   "execution_count": 23,
   "metadata": {},
   "outputs": [
    {
     "name": "stdout",
     "output_type": "stream",
     "text": [
      "200\n",
      "{\"iss_position\": {\"longitude\": \"169.5447\", \"latitude\": \"46.8056\"}, \"timestamp\": 1563206329, \"message\": \"success\"}\n"
     ]
    }
   ],
   "source": [
    "response = requests.get('http://api.open-notify.org/iss-now.json')\n",
    "print(response.status_code)\n",
    "print(response.text)"
   ]
  },
  {
   "cell_type": "markdown",
   "metadata": {},
   "source": [
    "### Query parameters\n",
    "\n",
    "If you look at the documentation for the OpenNotify API, we see that the ISS Pass endpoint requires two parameters.\n",
    "\n",
    "We can do this by adding an optional keyword argument, params, to our request. In this case, there are two parameters we need to pass:\n",
    "\n",
    "* lat — The latitude of the location we want.\n",
    "* lon — The longitude of the location we want.\n",
    "We can make a dictionary with these parameters, and then pass them into the requests.get function.\n",
    "\n",
    "We can also do the same thing directly by adding the query parameters to the url, like this: http://api.open-notify.org/iss-pass.json?lat=40.71&lon=-74.\n",
    "\n",
    "It’s almost always preferable to setup the parameters as a dictionary, because requests takes care of some things that come up, like properly formatting the query parameters.\n",
    "\n",
    "We’ll make a request using the coordinates of New York City, and see what response we get."
   ]
  },
  {
   "cell_type": "code",
   "execution_count": 24,
   "metadata": {},
   "outputs": [
    {
     "name": "stdout",
     "output_type": "stream",
     "text": [
      "b'{\\n  \"message\": \"success\", \\n  \"request\": {\\n    \"altitude\": 100, \\n    \"datetime\": 1563206008, \\n    \"latitude\": 40.71, \\n    \"longitude\": -74.0, \\n    \"passes\": 5\\n  }, \\n  \"response\": [\\n    {\\n      \"duration\": 470, \\n      \"risetime\": 1563238418\\n    }, \\n    {\\n      \"duration\": 648, \\n      \"risetime\": 1563244094\\n    }, \\n    {\\n      \"duration\": 605, \\n      \"risetime\": 1563249934\\n    }, \\n    {\\n      \"duration\": 552, \\n      \"risetime\": 1563255819\\n    }, \\n    {\\n      \"duration\": 601, \\n      \"risetime\": 1563261653\\n    }\\n  ]\\n}\\n'\n",
      "{'message': 'success', 'request': {'altitude': 100, 'datetime': 1563206008, 'latitude': 40.71, 'longitude': -74.0, 'passes': 5}, 'response': [{'duration': 470, 'risetime': 1563238418}, {'duration': 648, 'risetime': 1563244094}, {'duration': 605, 'risetime': 1563249934}, {'duration': 552, 'risetime': 1563255819}, {'duration': 601, 'risetime': 1563261653}]}\n"
     ]
    }
   ],
   "source": [
    "# Set up the parameters we want to pass to the API.\n",
    "# This is the latitude and longitude of New York City.\n",
    "parameters = {\"lat\": 40.71, \"lon\": -74}\n",
    "\n",
    "\n",
    "# Make a get request with the parameters.\n",
    "response = requests.get(\"http://api.open-notify.org/iss-pass.json\", params=parameters)\n",
    "\n",
    "\n",
    "# Print the content of the response (the data the server returned)\n",
    "print(response.content)\n",
    "resp_dict = response.json()\n",
    "print(resp_dict)"
   ]
  },
  {
   "cell_type": "code",
   "execution_count": 25,
   "metadata": {},
   "outputs": [
    {
     "data": {
      "text/plain": [
       "{'message': 'success',\n",
       " 'request': {'altitude': 100,\n",
       "  'datetime': 1563206008,\n",
       "  'latitude': 40.71,\n",
       "  'longitude': -74.0,\n",
       "  'passes': 5},\n",
       " 'response': [{'duration': 470, 'risetime': 1563238418},\n",
       "  {'duration': 648, 'risetime': 1563244094},\n",
       "  {'duration': 605, 'risetime': 1563249934},\n",
       "  {'duration': 552, 'risetime': 1563255819},\n",
       "  {'duration': 601, 'risetime': 1563261653}]}"
      ]
     },
     "execution_count": 25,
     "metadata": {},
     "output_type": "execute_result"
    }
   ],
   "source": [
    "json.loads(response.content)"
   ]
  },
  {
   "cell_type": "markdown",
   "metadata": {},
   "source": [
    "So this returns a lot of information which by default is not really human understandable due to data encoding, HTML tags and other styling information that only a web browser can truly translate. In later lessons we shall look at how we can use ** Regular Exprerssions**  to clean this information and extract the required bits and pieces for analysis. \n",
    "\n",
    "## Response Headers\n",
    "The response of an HTTP request can contain many headers that holds different bits of information. We can use `.header` property of the response object to access the header information as shown below:\n"
   ]
  },
  {
   "cell_type": "code",
   "execution_count": 26,
   "metadata": {},
   "outputs": [
    {
     "data": {
      "text/plain": [
       "{'Server': 'nginx/1.10.3',\n",
       " 'Date': 'Mon, 15 Jul 2019 15:58:50 GMT',\n",
       " 'Content-Type': 'application/json',\n",
       " 'Content-Length': '519',\n",
       " 'Connection': 'keep-alive',\n",
       " 'Via': '1.1 vegur'}"
      ]
     },
     "execution_count": 26,
     "metadata": {},
     "output_type": "execute_result"
    }
   ],
   "source": [
    "# Code here \n",
    "dict(response.headers)"
   ]
  },
  {
   "cell_type": "markdown",
   "metadata": {},
   "source": [
    "The content of the headers is our required element. You can see the key-value pairs holding various pieces of  information about the resource and request. Let's try to parse some of these values using the requests library:\n",
    "\n",
    "```python\n",
    "print(resp.headers['Content-Length'])  # length of the response\n",
    "print(resp.headers['Date'])  # Date the response was sent\n",
    "print(resp.headers['server'])   # Server type (google web service - GWS)\n",
    "```"
   ]
  }
 ],
 "metadata": {
  "kernelspec": {
   "display_name": "Python 3",
   "language": "python",
   "name": "python3"
  },
  "language_info": {
   "codemirror_mode": {
    "name": "ipython",
    "version": 3
   },
   "file_extension": ".py",
   "mimetype": "text/x-python",
   "name": "python",
   "nbconvert_exporter": "python",
   "pygments_lexer": "ipython3",
   "version": "3.7.3"
  }
 },
 "nbformat": 4,
 "nbformat_minor": 2
}
