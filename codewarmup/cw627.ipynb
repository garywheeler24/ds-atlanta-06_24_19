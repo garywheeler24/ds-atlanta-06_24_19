{
 "cells": [
  {
   "cell_type": "code",
   "execution_count": 1,
   "metadata": {},
   "outputs": [],
   "source": [
    "classmates = {'patrick': 'sushi', 'thoa': 'pho', 'christian': 'broccoli', 'princess': 'jollof', 'maia': 'noodles'}"
   ]
  },
  {
   "cell_type": "code",
   "execution_count": 2,
   "metadata": {},
   "outputs": [
    {
     "data": {
      "text/plain": [
       "dict_keys(['patrick', 'thoa', 'christian', 'princess', 'maia'])"
      ]
     },
     "execution_count": 2,
     "metadata": {},
     "output_type": "execute_result"
    }
   ],
   "source": [
    "classmates.keys()"
   ]
  },
  {
   "cell_type": "code",
   "execution_count": 3,
   "metadata": {},
   "outputs": [
    {
     "data": {
      "text/plain": [
       "dict_values(['sushi', 'pho', 'broccoli', 'jollof', 'noodles'])"
      ]
     },
     "execution_count": 3,
     "metadata": {},
     "output_type": "execute_result"
    }
   ],
   "source": [
    "classmates.values()"
   ]
  },
  {
   "cell_type": "code",
   "execution_count": 4,
   "metadata": {},
   "outputs": [],
   "source": [
    "classmate_1 = {'name': 'thoa' , 'birth month': 'march', 'birth country': 'vietnam'}\n",
    "classmate_2 = {'name': 'patrick' , 'birth month': 'august', 'birth country': 'USA'}\n",
    "classmate_3 = {'name': 'princess' , 'birth month': 'march' , 'birth country': 'nigeria'}"
   ]
  },
  {
   "cell_type": "code",
   "execution_count": 7,
   "metadata": {},
   "outputs": [
    {
     "name": "stdout",
     "output_type": "stream",
     "text": [
      "[{'name': 'thoa', 'birth month': 'march', 'birth country': 'vietnam'}, {'name': 'patrick', 'birth month': 'august', 'birth country': 'USA'}, {'name': 'princess', 'birth month': 'march', 'birth country': 'nigeria'}]\n"
     ]
    }
   ],
   "source": [
    "cd = [classmate_1, classmate_2, classmate_3]\n",
    "print(classmates_dictionaries)"
   ]
  },
  {
   "cell_type": "code",
   "execution_count": 10,
   "metadata": {},
   "outputs": [
    {
     "data": {
      "text/plain": [
       "'august'"
      ]
     },
     "execution_count": 10,
     "metadata": {},
     "output_type": "execute_result"
    }
   ],
   "source": [
    "cd[1]['birth month']"
   ]
  },
  {
   "cell_type": "code",
   "execution_count": 31,
   "metadata": {},
   "outputs": [
    {
     "name": "stdout",
     "output_type": "stream",
     "text": [
      "['Thoa is from Vietnam', 'Patrick is from Usa', 'Princess is from Nigeria']\n"
     ]
    }
   ],
   "source": [
    "fw = []\n",
    "for i in cd:\n",
    "    fw.append(i['name'].title() + ' is from ' + i['birth country'].title())\n",
    "print(fw)"
   ]
  },
  {
   "cell_type": "code",
   "execution_count": 52,
   "metadata": {},
   "outputs": [
    {
     "name": "stdout",
     "output_type": "stream",
     "text": [
      "[('thoa', 'march', 'vietnam'), ('patrick', 'august', 'USA'), ('princess', 'march', 'nigeria')]\n"
     ]
    }
   ],
   "source": [
    "lt = []\n",
    "for i in cd:\n",
    "    lt.append(tuple(i.values()))\n",
    "print(lt)"
   ]
  },
  {
   "cell_type": "code",
   "execution_count": null,
   "metadata": {},
   "outputs": [],
   "source": []
  }
 ],
 "metadata": {
  "kernelspec": {
   "display_name": "Python 3",
   "language": "python",
   "name": "python3"
  },
  "language_info": {
   "codemirror_mode": {
    "name": "ipython",
    "version": 3
   },
   "file_extension": ".py",
   "mimetype": "text/x-python",
   "name": "python",
   "nbconvert_exporter": "python",
   "pygments_lexer": "ipython3",
   "version": "3.7.3"
  }
 },
 "nbformat": 4,
 "nbformat_minor": 2
}
