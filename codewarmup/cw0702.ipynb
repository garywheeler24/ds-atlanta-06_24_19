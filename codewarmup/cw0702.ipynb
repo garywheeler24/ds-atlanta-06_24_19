{
 "cells": [
  {
   "cell_type": "code",
   "execution_count": 8,
   "metadata": {},
   "outputs": [],
   "source": [
    "# Build a function called vowel.counter that takes in a string and returns the \n",
    "# number of times a,e,i,o,u (lowercase or uppercase) appear in the string. This \n",
    "# function should return a dictionary with vowels as keys and the counts of each \n",
    "# vowel as the values.\n",
    "def value_counts(string):\n",
    "    sep_string = list(string.lower())\n",
    "    vowels = ['a','e','i','o','u']\n",
    "    vowel_dict = dict.fromkeys(vowels, 0)\n",
    "    for i in sep_string:\n",
    "        if i in vowel_dict:\n",
    "            vowel_dict[i] += 1\n",
    "    print(vowel_dict)"
   ]
  },
  {
   "cell_type": "code",
   "execution_count": 9,
   "metadata": {},
   "outputs": [],
   "source": [
    "a = 'Build a function called vowel.counter that takes in a string and returns the number of times a,e,i,o,u (lowercase or uppercase) appear in the string. This function should return a dictionary with vowels as keys and the counts of each vowel as the values.'"
   ]
  },
  {
   "cell_type": "code",
   "execution_count": 10,
   "metadata": {},
   "outputs": [
    {
     "name": "stdout",
     "output_type": "stream",
     "text": [
      "{'a': 18, 'e': 23, 'i': 13, 'o': 14, 'u': 12}\n"
     ]
    }
   ],
   "source": [
    "value_counts(a)"
   ]
  },
  {
   "cell_type": "code",
   "execution_count": null,
   "metadata": {},
   "outputs": [],
   "source": []
  }
 ],
 "metadata": {
  "kernelspec": {
   "display_name": "Python 3",
   "language": "python",
   "name": "python3"
  },
  "language_info": {
   "codemirror_mode": {
    "name": "ipython",
    "version": 3
   },
   "file_extension": ".py",
   "mimetype": "text/x-python",
   "name": "python",
   "nbconvert_exporter": "python",
   "pygments_lexer": "ipython3",
   "version": "3.7.3"
  }
 },
 "nbformat": 4,
 "nbformat_minor": 2
}
